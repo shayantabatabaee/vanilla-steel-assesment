{
 "cells": [
  {
   "cell_type": "markdown",
   "id": "3a93df09-38ba-4cef-a342-d8b81abf78c7",
   "metadata": {},
   "source": [
    "# Vanilla Steel Case Assessment"
   ]
  },
  {
   "cell_type": "markdown",
   "id": "1f6a0e1b-995f-44fa-b707-353653ff4344",
   "metadata": {},
   "source": [
    "### Introduction"
   ]
  },
  {
   "cell_type": "markdown",
   "id": "5d6a933a-bb54-4aa0-a06e-d13b27e7f65f",
   "metadata": {},
   "source": [
    "This notebook belongs to the solution for case assessment for Vanilla Steel company. In this notebook first we install python libraries, then implement solution for each task. `pandas` library has been used for data manipulation techniques. In each part, I mixed the explanation, code and result to make this notebook easy to follow. Task 1 divided into three steps, first belongs to the supplier_data1 dataframe, then belongs to supplier_data2 dataframe and finally I merge those cleaned dataframes into inventory_dataset based on their shared columns."
   ]
  },
  {
   "cell_type": "markdown",
   "id": "0690bbce-6f07-4ae6-82be-c73d26bd9344",
   "metadata": {},
   "source": [
    "### Install & Import Libraries"
   ]
  },
  {
   "cell_type": "code",
   "execution_count": 1,
   "id": "5b58e38c-bf37-418c-80ef-ac879c942686",
   "metadata": {},
   "outputs": [],
   "source": [
    "!pip install -q pandas openpyxl"
   ]
  },
  {
   "cell_type": "code",
   "execution_count": 2,
   "id": "904b0c6d-6b03-4a82-9b16-ae22ceb1a2ef",
   "metadata": {},
   "outputs": [],
   "source": [
    "import os\n",
    "import pandas as pd"
   ]
  },
  {
   "cell_type": "markdown",
   "id": "06cd03bf-fcfb-453b-91ea-3adf7dfd0b92",
   "metadata": {},
   "source": [
    "### Initialize Variables"
   ]
  },
  {
   "cell_type": "code",
   "execution_count": 3,
   "id": "5383f4c4-ce4b-4896-bdd9-53e39c075435",
   "metadata": {},
   "outputs": [],
   "source": [
    "SUPPLIER_1_PATH = './resources/task_1/supplier_data1.xlsx'\n",
    "SUPPLIER_2_PATH = './resources/task_1/supplier_data2.xlsx'\n",
    "REFERENCE_PROPERTIES_PATH = './resources/task_2/reference_properties.tsv'\n",
    "RFQ_PATH = './resources/task_2/rfq.csv'\n",
    "OUTPUT_FOLDER_PATH = './output/'"
   ]
  },
  {
   "cell_type": "code",
   "execution_count": 4,
   "id": "6bfb831a-4d85-49ac-98a5-5817f9344fd8",
   "metadata": {},
   "outputs": [],
   "source": [
    "sup_1_df = pd.read_excel(SUPPLIER_1_PATH)\n",
    "sup_2_df = pd.read_excel(SUPPLIER_2_PATH)\n",
    "ref_df = pd.read_csv(REFERENCE_PROPERTIES_PATH, sep='\\t')\n",
    "rfq_df = pd.read_csv(RFQ_PATH)"
   ]
  },
  {
   "cell_type": "markdown",
   "id": "cbfd7d24-12c7-4760-9caf-d9003aa51332",
   "metadata": {},
   "source": [
    "## Task 1"
   ]
  },
  {
   "cell_type": "markdown",
   "id": "82d896dc-c431-4d81-93da-21f3fa3fed2d",
   "metadata": {},
   "source": [
    "In this task we are going to first clean and normalize each dataframe, then merge two dataframes together."
   ]
  },
  {
   "cell_type": "markdown",
   "id": "e8d60b15-86cf-4417-a676-20d851584137",
   "metadata": {},
   "source": [
    "### Task A.1"
   ]
  },
  {
   "cell_type": "markdown",
   "id": "4c653c51-454c-45d6-a034-d73935a97442",
   "metadata": {},
   "source": [
    "First we check the head of dataframes, information about each column and check the missing values."
   ]
  },
  {
   "cell_type": "markdown",
   "id": "ce4c8915-6b9d-4e9f-827b-9355c6bc4dde",
   "metadata": {},
   "source": [
    "#### Supplier 1"
   ]
  },
  {
   "cell_type": "code",
   "execution_count": 5,
   "id": "fe4e7050-ddbc-451a-98c6-768c9b7ff28f",
   "metadata": {},
   "outputs": [
    {
     "data": {
      "text/html": [
       "<div>\n",
       "<style scoped>\n",
       "    .dataframe tbody tr th:only-of-type {\n",
       "        vertical-align: middle;\n",
       "    }\n",
       "\n",
       "    .dataframe tbody tr th {\n",
       "        vertical-align: top;\n",
       "    }\n",
       "\n",
       "    .dataframe thead th {\n",
       "        text-align: right;\n",
       "    }\n",
       "</style>\n",
       "<table border=\"1\" class=\"dataframe\">\n",
       "  <thead>\n",
       "    <tr style=\"text-align: right;\">\n",
       "      <th></th>\n",
       "      <th>Quality/Choice</th>\n",
       "      <th>Grade</th>\n",
       "      <th>Finish</th>\n",
       "      <th>Thickness (mm)</th>\n",
       "      <th>Width (mm)</th>\n",
       "      <th>Description</th>\n",
       "      <th>Gross weight (kg)</th>\n",
       "      <th>RP02</th>\n",
       "      <th>RM</th>\n",
       "      <th>Quantity</th>\n",
       "      <th>AG</th>\n",
       "      <th>AI</th>\n",
       "    </tr>\n",
       "  </thead>\n",
       "  <tbody>\n",
       "    <tr>\n",
       "      <th>0</th>\n",
       "      <td>3rd</td>\n",
       "      <td>C200S</td>\n",
       "      <td>gebeizt und geglüht</td>\n",
       "      <td>2.77</td>\n",
       "      <td>1100</td>\n",
       "      <td>Längs- oder Querisse</td>\n",
       "      <td>13983</td>\n",
       "      <td>333.6</td>\n",
       "      <td>606.2</td>\n",
       "      <td>0.00</td>\n",
       "      <td>16.11</td>\n",
       "      <td>0.0054</td>\n",
       "    </tr>\n",
       "    <tr>\n",
       "      <th>1</th>\n",
       "      <td>3rd</td>\n",
       "      <td>C300S</td>\n",
       "      <td>ungebeizt</td>\n",
       "      <td>2.65</td>\n",
       "      <td>1075</td>\n",
       "      <td>Längs- oder Querisse</td>\n",
       "      <td>13047</td>\n",
       "      <td>717.7</td>\n",
       "      <td>0.0</td>\n",
       "      <td>0.00</td>\n",
       "      <td>16.11</td>\n",
       "      <td>0.0046</td>\n",
       "    </tr>\n",
       "    <tr>\n",
       "      <th>2</th>\n",
       "      <td>3rd</td>\n",
       "      <td>C100S</td>\n",
       "      <td>gebeizt und geglüht</td>\n",
       "      <td>2.20</td>\n",
       "      <td>1100</td>\n",
       "      <td>Kantenfehler - FS-Kantenrisse</td>\n",
       "      <td>14155</td>\n",
       "      <td>368.9</td>\n",
       "      <td>0.0</td>\n",
       "      <td>10.84</td>\n",
       "      <td>0.00</td>\n",
       "      <td>0.0061</td>\n",
       "    </tr>\n",
       "    <tr>\n",
       "      <th>3</th>\n",
       "      <td>2nd</td>\n",
       "      <td>C100S</td>\n",
       "      <td>gebeizt</td>\n",
       "      <td>2.86</td>\n",
       "      <td>1100</td>\n",
       "      <td>Längs- oder Querisse</td>\n",
       "      <td>11381</td>\n",
       "      <td>368.9</td>\n",
       "      <td>601.7</td>\n",
       "      <td>22.87</td>\n",
       "      <td>0.00</td>\n",
       "      <td>0.0062</td>\n",
       "    </tr>\n",
       "    <tr>\n",
       "      <th>4</th>\n",
       "      <td>1st</td>\n",
       "      <td>C300S</td>\n",
       "      <td>ungebeizt</td>\n",
       "      <td>2.88</td>\n",
       "      <td>1050</td>\n",
       "      <td>Sollmasse (Gewicht) unterschritten</td>\n",
       "      <td>10072</td>\n",
       "      <td>0.0</td>\n",
       "      <td>1213.0</td>\n",
       "      <td>22.87</td>\n",
       "      <td>0.00</td>\n",
       "      <td>0.0041</td>\n",
       "    </tr>\n",
       "  </tbody>\n",
       "</table>\n",
       "</div>"
      ],
      "text/plain": [
       "  Quality/Choice  Grade               Finish  Thickness (mm)  Width (mm)  \\\n",
       "0            3rd  C200S  gebeizt und geglüht            2.77        1100   \n",
       "1            3rd  C300S            ungebeizt            2.65        1075   \n",
       "2            3rd  C100S  gebeizt und geglüht            2.20        1100   \n",
       "3            2nd  C100S              gebeizt            2.86        1100   \n",
       "4            1st  C300S            ungebeizt            2.88        1050   \n",
       "\n",
       "                          Description  Gross weight (kg)   RP02      RM  \\\n",
       "0                Längs- oder Querisse              13983  333.6   606.2   \n",
       "1                Längs- oder Querisse              13047  717.7     0.0   \n",
       "2       Kantenfehler - FS-Kantenrisse              14155  368.9     0.0   \n",
       "3                Längs- oder Querisse              11381  368.9   601.7   \n",
       "4  Sollmasse (Gewicht) unterschritten              10072    0.0  1213.0   \n",
       "\n",
       "   Quantity     AG      AI  \n",
       "0      0.00  16.11  0.0054  \n",
       "1      0.00  16.11  0.0046  \n",
       "2     10.84   0.00  0.0061  \n",
       "3     22.87   0.00  0.0062  \n",
       "4     22.87   0.00  0.0041  "
      ]
     },
     "execution_count": 5,
     "metadata": {},
     "output_type": "execute_result"
    }
   ],
   "source": [
    "sup_1_df.head()"
   ]
  },
  {
   "cell_type": "code",
   "execution_count": 6,
   "id": "405b9e74-d5f8-414c-8d20-a3158051e458",
   "metadata": {},
   "outputs": [
    {
     "name": "stdout",
     "output_type": "stream",
     "text": [
      "<class 'pandas.core.frame.DataFrame'>\n",
      "RangeIndex: 50 entries, 0 to 49\n",
      "Data columns (total 12 columns):\n",
      " #   Column             Non-Null Count  Dtype  \n",
      "---  ------             --------------  -----  \n",
      " 0   Quality/Choice     50 non-null     object \n",
      " 1   Grade              50 non-null     object \n",
      " 2   Finish             50 non-null     object \n",
      " 3   Thickness (mm)     50 non-null     float64\n",
      " 4   Width (mm)         50 non-null     int64  \n",
      " 5   Description        50 non-null     object \n",
      " 6   Gross weight (kg)  50 non-null     int64  \n",
      " 7   RP02               50 non-null     float64\n",
      " 8   RM                 50 non-null     float64\n",
      " 9   Quantity           50 non-null     float64\n",
      " 10  AG                 50 non-null     float64\n",
      " 11  AI                 50 non-null     float64\n",
      "dtypes: float64(6), int64(2), object(4)\n",
      "memory usage: 4.8+ KB\n"
     ]
    }
   ],
   "source": [
    "sup_1_df.info()"
   ]
  },
  {
   "cell_type": "markdown",
   "id": "d3f7941a-8b9e-45f4-b0ae-8129d197b99d",
   "metadata": {},
   "source": [
    "After checking the above information, I noticed that there is no null values into dataframe, and these actions should be done :\n",
    "\n",
    "<ul>\n",
    "    <li>Apply strip, lowe or upper functions on string columns based on column entity</li>\n",
    "    <li>Apply type of <b>Thickness (mm)</b>, <b>Width (mm)</b> and <b>Gross weight (kg)</b> to be float64</li>\n",
    "    <li>Rename column <b>Gross weight (kg)</b> to <b>Weight (kg)</b></li>\n",
    "    <li>Assign supplier name and unique id for each row for further checking, the unique id helps us later to get detailed information later.</li>\n",
    "</ul>\n",
    "</br>"
   ]
  },
  {
   "cell_type": "code",
   "execution_count": 7,
   "id": "d687198c-e0d0-4d7c-9c17-e01c07f874dd",
   "metadata": {},
   "outputs": [],
   "source": [
    "sup_1_df['Quality/Choice'] = sup_1_df['Quality/Choice'].str.lower().str.strip()\n",
    "sup_1_df['Finish'] = sup_1_df['Finish'].str.lower().str.strip()\n",
    "sup_1_df['Grade'] = sup_1_df['Grade'].str.upper().str.strip()\n",
    "sup_1_df['Description'] = sup_1_df['Description'].str.strip()"
   ]
  },
  {
   "cell_type": "code",
   "execution_count": 8,
   "id": "cc42e966-a3a1-48e7-9128-d59bb1620a20",
   "metadata": {},
   "outputs": [],
   "source": [
    "for column in ['Thickness (mm)', 'Width (mm)', 'Gross weight (kg)', 'Quantity']:\n",
    "    sup_1_df[column] = sup_1_df[column].astype(float)"
   ]
  },
  {
   "cell_type": "code",
   "execution_count": 9,
   "id": "e72456ad-deeb-4ddc-a21f-74de1ad37887",
   "metadata": {},
   "outputs": [],
   "source": [
    "sup_1_df = sup_1_df.rename(columns={\n",
    "    'Gross weight (kg)': 'Weight (kg)'\n",
    "})"
   ]
  },
  {
   "cell_type": "code",
   "execution_count": 10,
   "id": "36922a69-3386-4c76-a743-8de8a767d32c",
   "metadata": {},
   "outputs": [],
   "source": [
    "sup_1_df['Supplier'] = 'Supplier 1'\n",
    "sup_1_df['Article ID'] = range(1, len(sup_1_df) + 1)"
   ]
  },
  {
   "cell_type": "code",
   "execution_count": 11,
   "id": "d5b38208-5c01-4712-9ac8-782c117beecb",
   "metadata": {},
   "outputs": [
    {
     "data": {
      "text/html": [
       "<div>\n",
       "<style scoped>\n",
       "    .dataframe tbody tr th:only-of-type {\n",
       "        vertical-align: middle;\n",
       "    }\n",
       "\n",
       "    .dataframe tbody tr th {\n",
       "        vertical-align: top;\n",
       "    }\n",
       "\n",
       "    .dataframe thead th {\n",
       "        text-align: right;\n",
       "    }\n",
       "</style>\n",
       "<table border=\"1\" class=\"dataframe\">\n",
       "  <thead>\n",
       "    <tr style=\"text-align: right;\">\n",
       "      <th></th>\n",
       "      <th>Quality/Choice</th>\n",
       "      <th>Grade</th>\n",
       "      <th>Finish</th>\n",
       "      <th>Thickness (mm)</th>\n",
       "      <th>Width (mm)</th>\n",
       "      <th>Description</th>\n",
       "      <th>Weight (kg)</th>\n",
       "      <th>RP02</th>\n",
       "      <th>RM</th>\n",
       "      <th>Quantity</th>\n",
       "      <th>AG</th>\n",
       "      <th>AI</th>\n",
       "      <th>Supplier</th>\n",
       "      <th>Article ID</th>\n",
       "    </tr>\n",
       "  </thead>\n",
       "  <tbody>\n",
       "    <tr>\n",
       "      <th>0</th>\n",
       "      <td>3rd</td>\n",
       "      <td>C200S</td>\n",
       "      <td>gebeizt und geglüht</td>\n",
       "      <td>2.77</td>\n",
       "      <td>1100.0</td>\n",
       "      <td>Längs- oder Querisse</td>\n",
       "      <td>13983.0</td>\n",
       "      <td>333.6</td>\n",
       "      <td>606.2</td>\n",
       "      <td>0.00</td>\n",
       "      <td>16.11</td>\n",
       "      <td>0.0054</td>\n",
       "      <td>Supplier 1</td>\n",
       "      <td>1</td>\n",
       "    </tr>\n",
       "    <tr>\n",
       "      <th>1</th>\n",
       "      <td>3rd</td>\n",
       "      <td>C300S</td>\n",
       "      <td>ungebeizt</td>\n",
       "      <td>2.65</td>\n",
       "      <td>1075.0</td>\n",
       "      <td>Längs- oder Querisse</td>\n",
       "      <td>13047.0</td>\n",
       "      <td>717.7</td>\n",
       "      <td>0.0</td>\n",
       "      <td>0.00</td>\n",
       "      <td>16.11</td>\n",
       "      <td>0.0046</td>\n",
       "      <td>Supplier 1</td>\n",
       "      <td>2</td>\n",
       "    </tr>\n",
       "    <tr>\n",
       "      <th>2</th>\n",
       "      <td>3rd</td>\n",
       "      <td>C100S</td>\n",
       "      <td>gebeizt und geglüht</td>\n",
       "      <td>2.20</td>\n",
       "      <td>1100.0</td>\n",
       "      <td>Kantenfehler - FS-Kantenrisse</td>\n",
       "      <td>14155.0</td>\n",
       "      <td>368.9</td>\n",
       "      <td>0.0</td>\n",
       "      <td>10.84</td>\n",
       "      <td>0.00</td>\n",
       "      <td>0.0061</td>\n",
       "      <td>Supplier 1</td>\n",
       "      <td>3</td>\n",
       "    </tr>\n",
       "    <tr>\n",
       "      <th>3</th>\n",
       "      <td>2nd</td>\n",
       "      <td>C100S</td>\n",
       "      <td>gebeizt</td>\n",
       "      <td>2.86</td>\n",
       "      <td>1100.0</td>\n",
       "      <td>Längs- oder Querisse</td>\n",
       "      <td>11381.0</td>\n",
       "      <td>368.9</td>\n",
       "      <td>601.7</td>\n",
       "      <td>22.87</td>\n",
       "      <td>0.00</td>\n",
       "      <td>0.0062</td>\n",
       "      <td>Supplier 1</td>\n",
       "      <td>4</td>\n",
       "    </tr>\n",
       "    <tr>\n",
       "      <th>4</th>\n",
       "      <td>1st</td>\n",
       "      <td>C300S</td>\n",
       "      <td>ungebeizt</td>\n",
       "      <td>2.88</td>\n",
       "      <td>1050.0</td>\n",
       "      <td>Sollmasse (Gewicht) unterschritten</td>\n",
       "      <td>10072.0</td>\n",
       "      <td>0.0</td>\n",
       "      <td>1213.0</td>\n",
       "      <td>22.87</td>\n",
       "      <td>0.00</td>\n",
       "      <td>0.0041</td>\n",
       "      <td>Supplier 1</td>\n",
       "      <td>5</td>\n",
       "    </tr>\n",
       "  </tbody>\n",
       "</table>\n",
       "</div>"
      ],
      "text/plain": [
       "  Quality/Choice  Grade               Finish  Thickness (mm)  Width (mm)  \\\n",
       "0            3rd  C200S  gebeizt und geglüht            2.77      1100.0   \n",
       "1            3rd  C300S            ungebeizt            2.65      1075.0   \n",
       "2            3rd  C100S  gebeizt und geglüht            2.20      1100.0   \n",
       "3            2nd  C100S              gebeizt            2.86      1100.0   \n",
       "4            1st  C300S            ungebeizt            2.88      1050.0   \n",
       "\n",
       "                          Description  Weight (kg)   RP02      RM  Quantity  \\\n",
       "0                Längs- oder Querisse      13983.0  333.6   606.2      0.00   \n",
       "1                Längs- oder Querisse      13047.0  717.7     0.0      0.00   \n",
       "2       Kantenfehler - FS-Kantenrisse      14155.0  368.9     0.0     10.84   \n",
       "3                Längs- oder Querisse      11381.0  368.9   601.7     22.87   \n",
       "4  Sollmasse (Gewicht) unterschritten      10072.0    0.0  1213.0     22.87   \n",
       "\n",
       "      AG      AI    Supplier  Article ID  \n",
       "0  16.11  0.0054  Supplier 1           1  \n",
       "1  16.11  0.0046  Supplier 1           2  \n",
       "2   0.00  0.0061  Supplier 1           3  \n",
       "3   0.00  0.0062  Supplier 1           4  \n",
       "4   0.00  0.0041  Supplier 1           5  "
      ]
     },
     "execution_count": 11,
     "metadata": {},
     "output_type": "execute_result"
    }
   ],
   "source": [
    "sup_1_df.head()"
   ]
  },
  {
   "cell_type": "markdown",
   "id": "52f7f8b4-735c-4850-aacb-c3071deda3c4",
   "metadata": {},
   "source": [
    "#### Supplier 2"
   ]
  },
  {
   "cell_type": "code",
   "execution_count": 12,
   "id": "f454c720-ab3a-4371-b226-de83b90d16d6",
   "metadata": {},
   "outputs": [
    {
     "data": {
      "text/html": [
       "<div>\n",
       "<style scoped>\n",
       "    .dataframe tbody tr th:only-of-type {\n",
       "        vertical-align: middle;\n",
       "    }\n",
       "\n",
       "    .dataframe tbody tr th {\n",
       "        vertical-align: top;\n",
       "    }\n",
       "\n",
       "    .dataframe thead th {\n",
       "        text-align: right;\n",
       "    }\n",
       "</style>\n",
       "<table border=\"1\" class=\"dataframe\">\n",
       "  <thead>\n",
       "    <tr style=\"text-align: right;\">\n",
       "      <th></th>\n",
       "      <th>Material</th>\n",
       "      <th>Description</th>\n",
       "      <th>Article ID</th>\n",
       "      <th>Weight (kg)</th>\n",
       "      <th>Quantity</th>\n",
       "      <th>Reserved</th>\n",
       "    </tr>\n",
       "  </thead>\n",
       "  <tbody>\n",
       "    <tr>\n",
       "      <th>0</th>\n",
       "      <td>HDC</td>\n",
       "      <td>Material is Oiled</td>\n",
       "      <td>23048203</td>\n",
       "      <td>24469</td>\n",
       "      <td>52</td>\n",
       "      <td>NOT RESERVED</td>\n",
       "    </tr>\n",
       "    <tr>\n",
       "      <th>1</th>\n",
       "      <td>S235JR</td>\n",
       "      <td>Material is Oiled</td>\n",
       "      <td>23040547</td>\n",
       "      <td>16984</td>\n",
       "      <td>41</td>\n",
       "      <td>NOT RESERVED</td>\n",
       "    </tr>\n",
       "    <tr>\n",
       "      <th>2</th>\n",
       "      <td>S235JR</td>\n",
       "      <td>Material is Painted</td>\n",
       "      <td>23046057</td>\n",
       "      <td>9162</td>\n",
       "      <td>28</td>\n",
       "      <td>NOT RESERVED</td>\n",
       "    </tr>\n",
       "    <tr>\n",
       "      <th>3</th>\n",
       "      <td>DX51D +AZ150</td>\n",
       "      <td>Material is Oiled</td>\n",
       "      <td>23041966</td>\n",
       "      <td>12119</td>\n",
       "      <td>66</td>\n",
       "      <td>VANILLA</td>\n",
       "    </tr>\n",
       "    <tr>\n",
       "      <th>4</th>\n",
       "      <td>HDC</td>\n",
       "      <td>Material is Painted</td>\n",
       "      <td>23043884</td>\n",
       "      <td>17260</td>\n",
       "      <td>26</td>\n",
       "      <td>NOT RESERVED</td>\n",
       "    </tr>\n",
       "  </tbody>\n",
       "</table>\n",
       "</div>"
      ],
      "text/plain": [
       "       Material          Description  Article ID  Weight (kg)  Quantity  \\\n",
       "0           HDC    Material is Oiled    23048203        24469        52   \n",
       "1        S235JR    Material is Oiled    23040547        16984        41   \n",
       "2        S235JR  Material is Painted    23046057         9162        28   \n",
       "3  DX51D +AZ150    Material is Oiled    23041966        12119        66   \n",
       "4           HDC  Material is Painted    23043884        17260        26   \n",
       "\n",
       "       Reserved  \n",
       "0  NOT RESERVED  \n",
       "1  NOT RESERVED  \n",
       "2  NOT RESERVED  \n",
       "3       VANILLA  \n",
       "4  NOT RESERVED  "
      ]
     },
     "execution_count": 12,
     "metadata": {},
     "output_type": "execute_result"
    }
   ],
   "source": [
    "sup_2_df.head()"
   ]
  },
  {
   "cell_type": "code",
   "execution_count": 13,
   "id": "c8cd0a45-1c49-4756-afe6-1a74c92e4170",
   "metadata": {},
   "outputs": [
    {
     "name": "stdout",
     "output_type": "stream",
     "text": [
      "<class 'pandas.core.frame.DataFrame'>\n",
      "RangeIndex: 50 entries, 0 to 49\n",
      "Data columns (total 6 columns):\n",
      " #   Column       Non-Null Count  Dtype \n",
      "---  ------       --------------  ----- \n",
      " 0   Material     50 non-null     object\n",
      " 1   Description  50 non-null     object\n",
      " 2   Article ID   50 non-null     int64 \n",
      " 3   Weight (kg)  50 non-null     int64 \n",
      " 4   Quantity     50 non-null     int64 \n",
      " 5   Reserved     50 non-null     object\n",
      "dtypes: int64(3), object(3)\n",
      "memory usage: 2.5+ KB\n"
     ]
    }
   ],
   "source": [
    "sup_2_df.info()"
   ]
  },
  {
   "cell_type": "markdown",
   "id": "393b05e2-c51c-41cd-9fd0-79ec7155620b",
   "metadata": {},
   "source": [
    "Again for the second dataframe after checking the above information, I noticed that there is no null values into dataframe, and these actions should be done :\n",
    "\n",
    "<ul>\n",
    "    <li>Apply strip, lower or upper functions on string columns based on column entity</li>\n",
    "    <li>Apply type of <b>Weight (kg)</b> and <b>Quantity</b> to be float64</li>\n",
    "    <li>Rename column <b>Material</b> to <b>Grade</b> to keep consistency for mergeing dataframes</li>\n",
    "    <li>Assign supplier name for each row for further checking</li>\n",
    "</ul>\n",
    "</br>"
   ]
  },
  {
   "cell_type": "code",
   "execution_count": 14,
   "id": "d196d7d5-f766-4255-9fd7-454f1ac10d65",
   "metadata": {},
   "outputs": [],
   "source": [
    "sup_2_df['Material'] = sup_2_df['Material'].str.strip().str.upper()\n",
    "sup_2_df['Reserved'] = sup_2_df['Reserved'].str.strip().str.upper()"
   ]
  },
  {
   "cell_type": "code",
   "execution_count": 15,
   "id": "d76cafe3-54de-4ebb-8289-3c98691e0914",
   "metadata": {},
   "outputs": [],
   "source": [
    "for column in ['Weight (kg)', 'Quantity']:\n",
    "    sup_2_df[column] = sup_2_df[column].astype(float)"
   ]
  },
  {
   "cell_type": "code",
   "execution_count": 16,
   "id": "059d8e8d-f516-4a62-b6a1-fb6d45514224",
   "metadata": {},
   "outputs": [],
   "source": [
    "sup_2_df = sup_2_df.rename(columns={\n",
    "    'Material': 'Grade'\n",
    "})"
   ]
  },
  {
   "cell_type": "code",
   "execution_count": 17,
   "id": "0189f24a-b530-4a89-bd0f-544470942713",
   "metadata": {},
   "outputs": [],
   "source": [
    "sup_2_df['Supplier'] = 'Supplier 2'"
   ]
  },
  {
   "cell_type": "code",
   "execution_count": 18,
   "id": "76d83693-5a37-4ce7-ad54-b7d2a2d9f409",
   "metadata": {},
   "outputs": [
    {
     "data": {
      "text/html": [
       "<div>\n",
       "<style scoped>\n",
       "    .dataframe tbody tr th:only-of-type {\n",
       "        vertical-align: middle;\n",
       "    }\n",
       "\n",
       "    .dataframe tbody tr th {\n",
       "        vertical-align: top;\n",
       "    }\n",
       "\n",
       "    .dataframe thead th {\n",
       "        text-align: right;\n",
       "    }\n",
       "</style>\n",
       "<table border=\"1\" class=\"dataframe\">\n",
       "  <thead>\n",
       "    <tr style=\"text-align: right;\">\n",
       "      <th></th>\n",
       "      <th>Grade</th>\n",
       "      <th>Description</th>\n",
       "      <th>Article ID</th>\n",
       "      <th>Weight (kg)</th>\n",
       "      <th>Quantity</th>\n",
       "      <th>Reserved</th>\n",
       "      <th>Supplier</th>\n",
       "    </tr>\n",
       "  </thead>\n",
       "  <tbody>\n",
       "    <tr>\n",
       "      <th>0</th>\n",
       "      <td>HDC</td>\n",
       "      <td>Material is Oiled</td>\n",
       "      <td>23048203</td>\n",
       "      <td>24469.0</td>\n",
       "      <td>52.0</td>\n",
       "      <td>NOT RESERVED</td>\n",
       "      <td>Supplier 2</td>\n",
       "    </tr>\n",
       "    <tr>\n",
       "      <th>1</th>\n",
       "      <td>S235JR</td>\n",
       "      <td>Material is Oiled</td>\n",
       "      <td>23040547</td>\n",
       "      <td>16984.0</td>\n",
       "      <td>41.0</td>\n",
       "      <td>NOT RESERVED</td>\n",
       "      <td>Supplier 2</td>\n",
       "    </tr>\n",
       "    <tr>\n",
       "      <th>2</th>\n",
       "      <td>S235JR</td>\n",
       "      <td>Material is Painted</td>\n",
       "      <td>23046057</td>\n",
       "      <td>9162.0</td>\n",
       "      <td>28.0</td>\n",
       "      <td>NOT RESERVED</td>\n",
       "      <td>Supplier 2</td>\n",
       "    </tr>\n",
       "    <tr>\n",
       "      <th>3</th>\n",
       "      <td>DX51D +AZ150</td>\n",
       "      <td>Material is Oiled</td>\n",
       "      <td>23041966</td>\n",
       "      <td>12119.0</td>\n",
       "      <td>66.0</td>\n",
       "      <td>VANILLA</td>\n",
       "      <td>Supplier 2</td>\n",
       "    </tr>\n",
       "    <tr>\n",
       "      <th>4</th>\n",
       "      <td>HDC</td>\n",
       "      <td>Material is Painted</td>\n",
       "      <td>23043884</td>\n",
       "      <td>17260.0</td>\n",
       "      <td>26.0</td>\n",
       "      <td>NOT RESERVED</td>\n",
       "      <td>Supplier 2</td>\n",
       "    </tr>\n",
       "  </tbody>\n",
       "</table>\n",
       "</div>"
      ],
      "text/plain": [
       "          Grade          Description  Article ID  Weight (kg)  Quantity  \\\n",
       "0           HDC    Material is Oiled    23048203      24469.0      52.0   \n",
       "1        S235JR    Material is Oiled    23040547      16984.0      41.0   \n",
       "2        S235JR  Material is Painted    23046057       9162.0      28.0   \n",
       "3  DX51D +AZ150    Material is Oiled    23041966      12119.0      66.0   \n",
       "4           HDC  Material is Painted    23043884      17260.0      26.0   \n",
       "\n",
       "       Reserved    Supplier  \n",
       "0  NOT RESERVED  Supplier 2  \n",
       "1  NOT RESERVED  Supplier 2  \n",
       "2  NOT RESERVED  Supplier 2  \n",
       "3       VANILLA  Supplier 2  \n",
       "4  NOT RESERVED  Supplier 2  "
      ]
     },
     "execution_count": 18,
     "metadata": {},
     "output_type": "execute_result"
    }
   ],
   "source": [
    "sup_2_df.head()"
   ]
  },
  {
   "cell_type": "markdown",
   "id": "65a7909f-267f-47df-98fb-a2ce7f50c082",
   "metadata": {},
   "source": [
    "#### Merge"
   ]
  },
  {
   "cell_type": "markdown",
   "id": "d8fc610d-0be4-4ff4-b7a8-7d4dfe5c72a0",
   "metadata": {},
   "source": [
    "In this section, we merge the both dataframes based on share columns and save inventory_dataset.csv file."
   ]
  },
  {
   "cell_type": "code",
   "execution_count": 19,
   "id": "9235a512-d665-43c4-9d8e-a10bd741d298",
   "metadata": {},
   "outputs": [
    {
     "name": "stdout",
     "output_type": "stream",
     "text": [
      "Shared columns: ['Grade', 'Description', 'Weight (kg)', 'Quantity', 'Supplier', 'Article ID']\n"
     ]
    }
   ],
   "source": [
    "shared_columns = sup_1_df.columns.intersection(sup_2_df.columns)\n",
    "print(\"Shared columns:\", shared_columns.tolist())"
   ]
  },
  {
   "cell_type": "code",
   "execution_count": 20,
   "id": "9327689e-7928-4810-a599-409b88dcd9d5",
   "metadata": {},
   "outputs": [],
   "source": [
    "sup_1_shared = sup_1_df[shared_columns]\n",
    "sup_2_shared = sup_2_df[shared_columns]\n",
    "inventory_dataset = pd.concat([sup_1_shared, sup_2_shared], ignore_index = True)"
   ]
  },
  {
   "cell_type": "markdown",
   "id": "1cc1a259-7b97-46cf-afd2-ee1eb3f46471",
   "metadata": {},
   "source": [
    "Becuase the inventory dataset belongs to the available steels, the we filter rows that has a zero quantity."
   ]
  },
  {
   "cell_type": "code",
   "execution_count": 21,
   "id": "3eef3898-4c30-45a8-ba89-1455c423d670",
   "metadata": {},
   "outputs": [],
   "source": [
    "inventory_dataset = inventory_dataset[inventory_dataset['Quantity'] > 0]"
   ]
  },
  {
   "cell_type": "code",
   "execution_count": 22,
   "id": "228a2238-b1c9-4c11-a39d-dfd988394df2",
   "metadata": {},
   "outputs": [
    {
     "data": {
      "text/html": [
       "<div>\n",
       "<style scoped>\n",
       "    .dataframe tbody tr th:only-of-type {\n",
       "        vertical-align: middle;\n",
       "    }\n",
       "\n",
       "    .dataframe tbody tr th {\n",
       "        vertical-align: top;\n",
       "    }\n",
       "\n",
       "    .dataframe thead th {\n",
       "        text-align: right;\n",
       "    }\n",
       "</style>\n",
       "<table border=\"1\" class=\"dataframe\">\n",
       "  <thead>\n",
       "    <tr style=\"text-align: right;\">\n",
       "      <th></th>\n",
       "      <th>Grade</th>\n",
       "      <th>Description</th>\n",
       "      <th>Weight (kg)</th>\n",
       "      <th>Quantity</th>\n",
       "      <th>Supplier</th>\n",
       "      <th>Article ID</th>\n",
       "    </tr>\n",
       "  </thead>\n",
       "  <tbody>\n",
       "    <tr>\n",
       "      <th>62</th>\n",
       "      <td>S235JR</td>\n",
       "      <td>Material is not Oiled</td>\n",
       "      <td>15881.0</td>\n",
       "      <td>36.00</td>\n",
       "      <td>Supplier 2</td>\n",
       "      <td>23047348</td>\n",
       "    </tr>\n",
       "    <tr>\n",
       "      <th>6</th>\n",
       "      <td>C100S</td>\n",
       "      <td>Sollmasse (Gewicht) unterschritten</td>\n",
       "      <td>8936.0</td>\n",
       "      <td>10.84</td>\n",
       "      <td>Supplier 1</td>\n",
       "      <td>7</td>\n",
       "    </tr>\n",
       "    <tr>\n",
       "      <th>42</th>\n",
       "      <td>C100S</td>\n",
       "      <td>Sollmasse (Gewicht) unterschritten</td>\n",
       "      <td>11360.0</td>\n",
       "      <td>22.87</td>\n",
       "      <td>Supplier 1</td>\n",
       "      <td>43</td>\n",
       "    </tr>\n",
       "    <tr>\n",
       "      <th>98</th>\n",
       "      <td>DX51D +Z140</td>\n",
       "      <td>Material is Oiled</td>\n",
       "      <td>16927.0</td>\n",
       "      <td>69.00</td>\n",
       "      <td>Supplier 2</td>\n",
       "      <td>23043348</td>\n",
       "    </tr>\n",
       "    <tr>\n",
       "      <th>63</th>\n",
       "      <td>HDC</td>\n",
       "      <td>Material is Painted</td>\n",
       "      <td>23915.0</td>\n",
       "      <td>30.00</td>\n",
       "      <td>Supplier 2</td>\n",
       "      <td>23045961</td>\n",
       "    </tr>\n",
       "  </tbody>\n",
       "</table>\n",
       "</div>"
      ],
      "text/plain": [
       "          Grade                         Description  Weight (kg)  Quantity  \\\n",
       "62       S235JR               Material is not Oiled      15881.0     36.00   \n",
       "6         C100S  Sollmasse (Gewicht) unterschritten       8936.0     10.84   \n",
       "42        C100S  Sollmasse (Gewicht) unterschritten      11360.0     22.87   \n",
       "98  DX51D +Z140                   Material is Oiled      16927.0     69.00   \n",
       "63          HDC                 Material is Painted      23915.0     30.00   \n",
       "\n",
       "      Supplier  Article ID  \n",
       "62  Supplier 2    23047348  \n",
       "6   Supplier 1           7  \n",
       "42  Supplier 1          43  \n",
       "98  Supplier 2    23043348  \n",
       "63  Supplier 2    23045961  "
      ]
     },
     "execution_count": 22,
     "metadata": {},
     "output_type": "execute_result"
    }
   ],
   "source": [
    "inventory_dataset.sample(frac=1).head()"
   ]
  },
  {
   "cell_type": "code",
   "execution_count": 23,
   "id": "ee1197b3-55e6-4414-92ed-ccf6ff9bf5f5",
   "metadata": {},
   "outputs": [],
   "source": [
    "os.makedirs(OUTPUT_FOLDER_PATH, exist_ok=True)\n",
    "inventory_dataset.to_csv(os.path.join(OUTPUT_FOLDER_PATH, 'inventory_dataset.csv'), index=False)"
   ]
  }
 ],
 "metadata": {
  "kernelspec": {
   "display_name": "Python 3 (ipykernel)",
   "language": "python",
   "name": "python3"
  },
  "language_info": {
   "codemirror_mode": {
    "name": "ipython",
    "version": 3
   },
   "file_extension": ".py",
   "mimetype": "text/x-python",
   "name": "python",
   "nbconvert_exporter": "python",
   "pygments_lexer": "ipython3",
   "version": "3.9.6"
  }
 },
 "nbformat": 4,
 "nbformat_minor": 5
}
