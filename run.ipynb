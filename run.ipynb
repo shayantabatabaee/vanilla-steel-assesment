{
 "cells": [
  {
   "cell_type": "markdown",
   "id": "3a93df09-38ba-4cef-a342-d8b81abf78c7",
   "metadata": {},
   "source": [
    "# Vanilla Steel Case Assessment"
   ]
  },
  {
   "cell_type": "markdown",
   "id": "1f6a0e1b-995f-44fa-b707-353653ff4344",
   "metadata": {},
   "source": [
    "### Introduction"
   ]
  },
  {
   "cell_type": "markdown",
   "id": "5d6a933a-bb54-4aa0-a06e-d13b27e7f65f",
   "metadata": {},
   "source": [
    "This notebook belongs to the solution for case assessment for Vanilla Steel company. In this notebook first we install python libraries, then implement solution for each task. `pandas` library has been used for data manipulation techniques. In each part, I mixed the explanation, code and result to make this notebook easy to follow. Task 1 divided into three steps, first belongs to the supplier_data1 dataframe, then belongs to supplier_data2 dataframe and finally I merge those cleaned dataframes into inventory_dataset based on their shared columns."
   ]
  },
  {
   "cell_type": "markdown",
   "id": "0690bbce-6f07-4ae6-82be-c73d26bd9344",
   "metadata": {},
   "source": [
    "### Install & Import Libraries"
   ]
  },
  {
   "cell_type": "code",
   "execution_count": 1,
   "id": "5b58e38c-bf37-418c-80ef-ac879c942686",
   "metadata": {},
   "outputs": [],
   "source": [
    "!pip install -q pandas openpyxl missingno"
   ]
  },
  {
   "cell_type": "code",
   "execution_count": 2,
   "id": "904b0c6d-6b03-4a82-9b16-ae22ceb1a2ef",
   "metadata": {},
   "outputs": [],
   "source": [
    "import os\n",
    "import re\n",
    "import numpy as np\n",
    "import pandas as pd\n",
    "import missingno as msno\n",
    "\n",
    "from numpy.linalg import norm"
   ]
  },
  {
   "cell_type": "markdown",
   "id": "06cd03bf-fcfb-453b-91ea-3adf7dfd0b92",
   "metadata": {},
   "source": [
    "### Initialize Variables"
   ]
  },
  {
   "cell_type": "code",
   "execution_count": 3,
   "id": "5383f4c4-ce4b-4896-bdd9-53e39c075435",
   "metadata": {},
   "outputs": [],
   "source": [
    "SUPPLIER_1_PATH = './resources/task_1/supplier_data1.xlsx'\n",
    "SUPPLIER_2_PATH = './resources/task_1/supplier_data2.xlsx'\n",
    "REFERENCE_PROPERTIES_PATH = './resources/task_2/reference_properties.tsv'\n",
    "RFQ_PATH = './resources/task_2/rfq.csv'\n",
    "OUTPUT_FOLDER_PATH = './output/'"
   ]
  },
  {
   "cell_type": "code",
   "execution_count": 4,
   "id": "6bfb831a-4d85-49ac-98a5-5817f9344fd8",
   "metadata": {},
   "outputs": [],
   "source": [
    "sup_1_df = pd.read_excel(SUPPLIER_1_PATH)\n",
    "sup_2_df = pd.read_excel(SUPPLIER_2_PATH)\n",
    "ref_df = pd.read_csv(REFERENCE_PROPERTIES_PATH, sep='\\t')\n",
    "rfq_df = pd.read_csv(RFQ_PATH)"
   ]
  },
  {
   "cell_type": "markdown",
   "id": "cbfd7d24-12c7-4760-9caf-d9003aa51332",
   "metadata": {},
   "source": [
    "## Task 1"
   ]
  },
  {
   "cell_type": "markdown",
   "id": "82d896dc-c431-4d81-93da-21f3fa3fed2d",
   "metadata": {},
   "source": [
    "In this task we are going to first clean and normalize each dataframe, then merge two dataframes together."
   ]
  },
  {
   "cell_type": "markdown",
   "id": "e8d60b15-86cf-4417-a676-20d851584137",
   "metadata": {},
   "source": [
    "### Task A.1"
   ]
  },
  {
   "cell_type": "markdown",
   "id": "4c653c51-454c-45d6-a034-d73935a97442",
   "metadata": {},
   "source": [
    "First we check the head of dataframes, to get information about each column and then check the missing values."
   ]
  },
  {
   "cell_type": "markdown",
   "id": "ce4c8915-6b9d-4e9f-827b-9355c6bc4dde",
   "metadata": {},
   "source": [
    "#### Supplier 1"
   ]
  },
  {
   "cell_type": "code",
   "execution_count": 5,
   "id": "fe4e7050-ddbc-451a-98c6-768c9b7ff28f",
   "metadata": {},
   "outputs": [
    {
     "data": {
      "text/html": [
       "<div>\n",
       "<style scoped>\n",
       "    .dataframe tbody tr th:only-of-type {\n",
       "        vertical-align: middle;\n",
       "    }\n",
       "\n",
       "    .dataframe tbody tr th {\n",
       "        vertical-align: top;\n",
       "    }\n",
       "\n",
       "    .dataframe thead th {\n",
       "        text-align: right;\n",
       "    }\n",
       "</style>\n",
       "<table border=\"1\" class=\"dataframe\">\n",
       "  <thead>\n",
       "    <tr style=\"text-align: right;\">\n",
       "      <th></th>\n",
       "      <th>Quality/Choice</th>\n",
       "      <th>Grade</th>\n",
       "      <th>Finish</th>\n",
       "      <th>Thickness (mm)</th>\n",
       "      <th>Width (mm)</th>\n",
       "      <th>Description</th>\n",
       "      <th>Gross weight (kg)</th>\n",
       "      <th>RP02</th>\n",
       "      <th>RM</th>\n",
       "      <th>Quantity</th>\n",
       "      <th>AG</th>\n",
       "      <th>AI</th>\n",
       "    </tr>\n",
       "  </thead>\n",
       "  <tbody>\n",
       "    <tr>\n",
       "      <th>0</th>\n",
       "      <td>3rd</td>\n",
       "      <td>C200S</td>\n",
       "      <td>gebeizt und geglüht</td>\n",
       "      <td>2.77</td>\n",
       "      <td>1100</td>\n",
       "      <td>Längs- oder Querisse</td>\n",
       "      <td>13983</td>\n",
       "      <td>333.6</td>\n",
       "      <td>606.2</td>\n",
       "      <td>0.00</td>\n",
       "      <td>16.11</td>\n",
       "      <td>0.0054</td>\n",
       "    </tr>\n",
       "    <tr>\n",
       "      <th>1</th>\n",
       "      <td>3rd</td>\n",
       "      <td>C300S</td>\n",
       "      <td>ungebeizt</td>\n",
       "      <td>2.65</td>\n",
       "      <td>1075</td>\n",
       "      <td>Längs- oder Querisse</td>\n",
       "      <td>13047</td>\n",
       "      <td>717.7</td>\n",
       "      <td>0.0</td>\n",
       "      <td>0.00</td>\n",
       "      <td>16.11</td>\n",
       "      <td>0.0046</td>\n",
       "    </tr>\n",
       "    <tr>\n",
       "      <th>2</th>\n",
       "      <td>3rd</td>\n",
       "      <td>C100S</td>\n",
       "      <td>gebeizt und geglüht</td>\n",
       "      <td>2.20</td>\n",
       "      <td>1100</td>\n",
       "      <td>Kantenfehler - FS-Kantenrisse</td>\n",
       "      <td>14155</td>\n",
       "      <td>368.9</td>\n",
       "      <td>0.0</td>\n",
       "      <td>10.84</td>\n",
       "      <td>0.00</td>\n",
       "      <td>0.0061</td>\n",
       "    </tr>\n",
       "    <tr>\n",
       "      <th>3</th>\n",
       "      <td>2nd</td>\n",
       "      <td>C100S</td>\n",
       "      <td>gebeizt</td>\n",
       "      <td>2.86</td>\n",
       "      <td>1100</td>\n",
       "      <td>Längs- oder Querisse</td>\n",
       "      <td>11381</td>\n",
       "      <td>368.9</td>\n",
       "      <td>601.7</td>\n",
       "      <td>22.87</td>\n",
       "      <td>0.00</td>\n",
       "      <td>0.0062</td>\n",
       "    </tr>\n",
       "    <tr>\n",
       "      <th>4</th>\n",
       "      <td>1st</td>\n",
       "      <td>C300S</td>\n",
       "      <td>ungebeizt</td>\n",
       "      <td>2.88</td>\n",
       "      <td>1050</td>\n",
       "      <td>Sollmasse (Gewicht) unterschritten</td>\n",
       "      <td>10072</td>\n",
       "      <td>0.0</td>\n",
       "      <td>1213.0</td>\n",
       "      <td>22.87</td>\n",
       "      <td>0.00</td>\n",
       "      <td>0.0041</td>\n",
       "    </tr>\n",
       "  </tbody>\n",
       "</table>\n",
       "</div>"
      ],
      "text/plain": [
       "  Quality/Choice  Grade               Finish  Thickness (mm)  Width (mm)  \\\n",
       "0            3rd  C200S  gebeizt und geglüht            2.77        1100   \n",
       "1            3rd  C300S            ungebeizt            2.65        1075   \n",
       "2            3rd  C100S  gebeizt und geglüht            2.20        1100   \n",
       "3            2nd  C100S              gebeizt            2.86        1100   \n",
       "4            1st  C300S            ungebeizt            2.88        1050   \n",
       "\n",
       "                          Description  Gross weight (kg)   RP02      RM  \\\n",
       "0                Längs- oder Querisse              13983  333.6   606.2   \n",
       "1                Längs- oder Querisse              13047  717.7     0.0   \n",
       "2       Kantenfehler - FS-Kantenrisse              14155  368.9     0.0   \n",
       "3                Längs- oder Querisse              11381  368.9   601.7   \n",
       "4  Sollmasse (Gewicht) unterschritten              10072    0.0  1213.0   \n",
       "\n",
       "   Quantity     AG      AI  \n",
       "0      0.00  16.11  0.0054  \n",
       "1      0.00  16.11  0.0046  \n",
       "2     10.84   0.00  0.0061  \n",
       "3     22.87   0.00  0.0062  \n",
       "4     22.87   0.00  0.0041  "
      ]
     },
     "execution_count": 5,
     "metadata": {},
     "output_type": "execute_result"
    }
   ],
   "source": [
    "sup_1_df.head()"
   ]
  },
  {
   "cell_type": "code",
   "execution_count": 6,
   "id": "405b9e74-d5f8-414c-8d20-a3158051e458",
   "metadata": {},
   "outputs": [
    {
     "name": "stdout",
     "output_type": "stream",
     "text": [
      "<class 'pandas.core.frame.DataFrame'>\n",
      "RangeIndex: 50 entries, 0 to 49\n",
      "Data columns (total 12 columns):\n",
      " #   Column             Non-Null Count  Dtype  \n",
      "---  ------             --------------  -----  \n",
      " 0   Quality/Choice     50 non-null     object \n",
      " 1   Grade              50 non-null     object \n",
      " 2   Finish             50 non-null     object \n",
      " 3   Thickness (mm)     50 non-null     float64\n",
      " 4   Width (mm)         50 non-null     int64  \n",
      " 5   Description        50 non-null     object \n",
      " 6   Gross weight (kg)  50 non-null     int64  \n",
      " 7   RP02               50 non-null     float64\n",
      " 8   RM                 50 non-null     float64\n",
      " 9   Quantity           50 non-null     float64\n",
      " 10  AG                 50 non-null     float64\n",
      " 11  AI                 50 non-null     float64\n",
      "dtypes: float64(6), int64(2), object(4)\n",
      "memory usage: 4.8+ KB\n"
     ]
    }
   ],
   "source": [
    "sup_1_df.info()"
   ]
  },
  {
   "cell_type": "markdown",
   "id": "d3f7941a-8b9e-45f4-b0ae-8129d197b99d",
   "metadata": {},
   "source": [
    "After checking the above information, I noticed that there is no null values into dataframe, and these actions should be done :\n",
    "\n",
    "<ul>\n",
    "    <li>Apply strip, lower or upper functions on string columns based on column entity</li>\n",
    "    <li>Apply type of <b>Thickness (mm)</b>, <b>Width (mm)</b> and <b>Gross weight (kg)</b> to be float64</li>\n",
    "    <li>Rename column <b>Gross weight (kg)</b> to <b>Weight (kg)</b></li>\n",
    "    <li>Assign supplier name and unique id for each row for further checking, the unique id helps us later to get detailed information later.</li>\n",
    "</ul>\n",
    "</br>"
   ]
  },
  {
   "cell_type": "code",
   "execution_count": 7,
   "id": "d687198c-e0d0-4d7c-9c17-e01c07f874dd",
   "metadata": {},
   "outputs": [],
   "source": [
    "sup_1_df['Quality/Choice'] = sup_1_df['Quality/Choice'].str.lower().str.strip()\n",
    "sup_1_df['Finish'] = sup_1_df['Finish'].str.lower().str.strip()\n",
    "sup_1_df['Grade'] = sup_1_df['Grade'].str.upper().str.strip()\n",
    "sup_1_df['Description'] = sup_1_df['Description'].str.strip()"
   ]
  },
  {
   "cell_type": "code",
   "execution_count": 8,
   "id": "cc42e966-a3a1-48e7-9128-d59bb1620a20",
   "metadata": {},
   "outputs": [],
   "source": [
    "for column in ['Thickness (mm)', 'Width (mm)', 'Gross weight (kg)', 'Quantity']:\n",
    "    sup_1_df[column] = sup_1_df[column].astype(float)"
   ]
  },
  {
   "cell_type": "code",
   "execution_count": 9,
   "id": "e72456ad-deeb-4ddc-a21f-74de1ad37887",
   "metadata": {},
   "outputs": [],
   "source": [
    "sup_1_df = sup_1_df.rename(columns={\n",
    "    'Gross weight (kg)': 'Weight (kg)'\n",
    "})"
   ]
  },
  {
   "cell_type": "code",
   "execution_count": 10,
   "id": "36922a69-3386-4c76-a743-8de8a767d32c",
   "metadata": {},
   "outputs": [],
   "source": [
    "sup_1_df['Supplier'] = 'Supplier 1'\n",
    "sup_1_df['Article ID'] = range(1, len(sup_1_df) + 1)"
   ]
  },
  {
   "cell_type": "code",
   "execution_count": 11,
   "id": "d5b38208-5c01-4712-9ac8-782c117beecb",
   "metadata": {},
   "outputs": [
    {
     "data": {
      "text/html": [
       "<div>\n",
       "<style scoped>\n",
       "    .dataframe tbody tr th:only-of-type {\n",
       "        vertical-align: middle;\n",
       "    }\n",
       "\n",
       "    .dataframe tbody tr th {\n",
       "        vertical-align: top;\n",
       "    }\n",
       "\n",
       "    .dataframe thead th {\n",
       "        text-align: right;\n",
       "    }\n",
       "</style>\n",
       "<table border=\"1\" class=\"dataframe\">\n",
       "  <thead>\n",
       "    <tr style=\"text-align: right;\">\n",
       "      <th></th>\n",
       "      <th>Quality/Choice</th>\n",
       "      <th>Grade</th>\n",
       "      <th>Finish</th>\n",
       "      <th>Thickness (mm)</th>\n",
       "      <th>Width (mm)</th>\n",
       "      <th>Description</th>\n",
       "      <th>Weight (kg)</th>\n",
       "      <th>RP02</th>\n",
       "      <th>RM</th>\n",
       "      <th>Quantity</th>\n",
       "      <th>AG</th>\n",
       "      <th>AI</th>\n",
       "      <th>Supplier</th>\n",
       "      <th>Article ID</th>\n",
       "    </tr>\n",
       "  </thead>\n",
       "  <tbody>\n",
       "    <tr>\n",
       "      <th>0</th>\n",
       "      <td>3rd</td>\n",
       "      <td>C200S</td>\n",
       "      <td>gebeizt und geglüht</td>\n",
       "      <td>2.77</td>\n",
       "      <td>1100.0</td>\n",
       "      <td>Längs- oder Querisse</td>\n",
       "      <td>13983.0</td>\n",
       "      <td>333.6</td>\n",
       "      <td>606.2</td>\n",
       "      <td>0.00</td>\n",
       "      <td>16.11</td>\n",
       "      <td>0.0054</td>\n",
       "      <td>Supplier 1</td>\n",
       "      <td>1</td>\n",
       "    </tr>\n",
       "    <tr>\n",
       "      <th>1</th>\n",
       "      <td>3rd</td>\n",
       "      <td>C300S</td>\n",
       "      <td>ungebeizt</td>\n",
       "      <td>2.65</td>\n",
       "      <td>1075.0</td>\n",
       "      <td>Längs- oder Querisse</td>\n",
       "      <td>13047.0</td>\n",
       "      <td>717.7</td>\n",
       "      <td>0.0</td>\n",
       "      <td>0.00</td>\n",
       "      <td>16.11</td>\n",
       "      <td>0.0046</td>\n",
       "      <td>Supplier 1</td>\n",
       "      <td>2</td>\n",
       "    </tr>\n",
       "    <tr>\n",
       "      <th>2</th>\n",
       "      <td>3rd</td>\n",
       "      <td>C100S</td>\n",
       "      <td>gebeizt und geglüht</td>\n",
       "      <td>2.20</td>\n",
       "      <td>1100.0</td>\n",
       "      <td>Kantenfehler - FS-Kantenrisse</td>\n",
       "      <td>14155.0</td>\n",
       "      <td>368.9</td>\n",
       "      <td>0.0</td>\n",
       "      <td>10.84</td>\n",
       "      <td>0.00</td>\n",
       "      <td>0.0061</td>\n",
       "      <td>Supplier 1</td>\n",
       "      <td>3</td>\n",
       "    </tr>\n",
       "    <tr>\n",
       "      <th>3</th>\n",
       "      <td>2nd</td>\n",
       "      <td>C100S</td>\n",
       "      <td>gebeizt</td>\n",
       "      <td>2.86</td>\n",
       "      <td>1100.0</td>\n",
       "      <td>Längs- oder Querisse</td>\n",
       "      <td>11381.0</td>\n",
       "      <td>368.9</td>\n",
       "      <td>601.7</td>\n",
       "      <td>22.87</td>\n",
       "      <td>0.00</td>\n",
       "      <td>0.0062</td>\n",
       "      <td>Supplier 1</td>\n",
       "      <td>4</td>\n",
       "    </tr>\n",
       "    <tr>\n",
       "      <th>4</th>\n",
       "      <td>1st</td>\n",
       "      <td>C300S</td>\n",
       "      <td>ungebeizt</td>\n",
       "      <td>2.88</td>\n",
       "      <td>1050.0</td>\n",
       "      <td>Sollmasse (Gewicht) unterschritten</td>\n",
       "      <td>10072.0</td>\n",
       "      <td>0.0</td>\n",
       "      <td>1213.0</td>\n",
       "      <td>22.87</td>\n",
       "      <td>0.00</td>\n",
       "      <td>0.0041</td>\n",
       "      <td>Supplier 1</td>\n",
       "      <td>5</td>\n",
       "    </tr>\n",
       "  </tbody>\n",
       "</table>\n",
       "</div>"
      ],
      "text/plain": [
       "  Quality/Choice  Grade               Finish  Thickness (mm)  Width (mm)  \\\n",
       "0            3rd  C200S  gebeizt und geglüht            2.77      1100.0   \n",
       "1            3rd  C300S            ungebeizt            2.65      1075.0   \n",
       "2            3rd  C100S  gebeizt und geglüht            2.20      1100.0   \n",
       "3            2nd  C100S              gebeizt            2.86      1100.0   \n",
       "4            1st  C300S            ungebeizt            2.88      1050.0   \n",
       "\n",
       "                          Description  Weight (kg)   RP02      RM  Quantity  \\\n",
       "0                Längs- oder Querisse      13983.0  333.6   606.2      0.00   \n",
       "1                Längs- oder Querisse      13047.0  717.7     0.0      0.00   \n",
       "2       Kantenfehler - FS-Kantenrisse      14155.0  368.9     0.0     10.84   \n",
       "3                Längs- oder Querisse      11381.0  368.9   601.7     22.87   \n",
       "4  Sollmasse (Gewicht) unterschritten      10072.0    0.0  1213.0     22.87   \n",
       "\n",
       "      AG      AI    Supplier  Article ID  \n",
       "0  16.11  0.0054  Supplier 1           1  \n",
       "1  16.11  0.0046  Supplier 1           2  \n",
       "2   0.00  0.0061  Supplier 1           3  \n",
       "3   0.00  0.0062  Supplier 1           4  \n",
       "4   0.00  0.0041  Supplier 1           5  "
      ]
     },
     "execution_count": 11,
     "metadata": {},
     "output_type": "execute_result"
    }
   ],
   "source": [
    "sup_1_df.head()"
   ]
  },
  {
   "cell_type": "markdown",
   "id": "52f7f8b4-735c-4850-aacb-c3071deda3c4",
   "metadata": {},
   "source": [
    "#### Supplier 2"
   ]
  },
  {
   "cell_type": "code",
   "execution_count": 12,
   "id": "f454c720-ab3a-4371-b226-de83b90d16d6",
   "metadata": {},
   "outputs": [
    {
     "data": {
      "text/html": [
       "<div>\n",
       "<style scoped>\n",
       "    .dataframe tbody tr th:only-of-type {\n",
       "        vertical-align: middle;\n",
       "    }\n",
       "\n",
       "    .dataframe tbody tr th {\n",
       "        vertical-align: top;\n",
       "    }\n",
       "\n",
       "    .dataframe thead th {\n",
       "        text-align: right;\n",
       "    }\n",
       "</style>\n",
       "<table border=\"1\" class=\"dataframe\">\n",
       "  <thead>\n",
       "    <tr style=\"text-align: right;\">\n",
       "      <th></th>\n",
       "      <th>Material</th>\n",
       "      <th>Description</th>\n",
       "      <th>Article ID</th>\n",
       "      <th>Weight (kg)</th>\n",
       "      <th>Quantity</th>\n",
       "      <th>Reserved</th>\n",
       "    </tr>\n",
       "  </thead>\n",
       "  <tbody>\n",
       "    <tr>\n",
       "      <th>0</th>\n",
       "      <td>HDC</td>\n",
       "      <td>Material is Oiled</td>\n",
       "      <td>23048203</td>\n",
       "      <td>24469</td>\n",
       "      <td>52</td>\n",
       "      <td>NOT RESERVED</td>\n",
       "    </tr>\n",
       "    <tr>\n",
       "      <th>1</th>\n",
       "      <td>S235JR</td>\n",
       "      <td>Material is Oiled</td>\n",
       "      <td>23040547</td>\n",
       "      <td>16984</td>\n",
       "      <td>41</td>\n",
       "      <td>NOT RESERVED</td>\n",
       "    </tr>\n",
       "    <tr>\n",
       "      <th>2</th>\n",
       "      <td>S235JR</td>\n",
       "      <td>Material is Painted</td>\n",
       "      <td>23046057</td>\n",
       "      <td>9162</td>\n",
       "      <td>28</td>\n",
       "      <td>NOT RESERVED</td>\n",
       "    </tr>\n",
       "    <tr>\n",
       "      <th>3</th>\n",
       "      <td>DX51D +AZ150</td>\n",
       "      <td>Material is Oiled</td>\n",
       "      <td>23041966</td>\n",
       "      <td>12119</td>\n",
       "      <td>66</td>\n",
       "      <td>VANILLA</td>\n",
       "    </tr>\n",
       "    <tr>\n",
       "      <th>4</th>\n",
       "      <td>HDC</td>\n",
       "      <td>Material is Painted</td>\n",
       "      <td>23043884</td>\n",
       "      <td>17260</td>\n",
       "      <td>26</td>\n",
       "      <td>NOT RESERVED</td>\n",
       "    </tr>\n",
       "  </tbody>\n",
       "</table>\n",
       "</div>"
      ],
      "text/plain": [
       "       Material          Description  Article ID  Weight (kg)  Quantity  \\\n",
       "0           HDC    Material is Oiled    23048203        24469        52   \n",
       "1        S235JR    Material is Oiled    23040547        16984        41   \n",
       "2        S235JR  Material is Painted    23046057         9162        28   \n",
       "3  DX51D +AZ150    Material is Oiled    23041966        12119        66   \n",
       "4           HDC  Material is Painted    23043884        17260        26   \n",
       "\n",
       "       Reserved  \n",
       "0  NOT RESERVED  \n",
       "1  NOT RESERVED  \n",
       "2  NOT RESERVED  \n",
       "3       VANILLA  \n",
       "4  NOT RESERVED  "
      ]
     },
     "execution_count": 12,
     "metadata": {},
     "output_type": "execute_result"
    }
   ],
   "source": [
    "sup_2_df.head()"
   ]
  },
  {
   "cell_type": "code",
   "execution_count": 13,
   "id": "c8cd0a45-1c49-4756-afe6-1a74c92e4170",
   "metadata": {},
   "outputs": [
    {
     "name": "stdout",
     "output_type": "stream",
     "text": [
      "<class 'pandas.core.frame.DataFrame'>\n",
      "RangeIndex: 50 entries, 0 to 49\n",
      "Data columns (total 6 columns):\n",
      " #   Column       Non-Null Count  Dtype \n",
      "---  ------       --------------  ----- \n",
      " 0   Material     50 non-null     object\n",
      " 1   Description  50 non-null     object\n",
      " 2   Article ID   50 non-null     int64 \n",
      " 3   Weight (kg)  50 non-null     int64 \n",
      " 4   Quantity     50 non-null     int64 \n",
      " 5   Reserved     50 non-null     object\n",
      "dtypes: int64(3), object(3)\n",
      "memory usage: 2.5+ KB\n"
     ]
    }
   ],
   "source": [
    "sup_2_df.info()"
   ]
  },
  {
   "cell_type": "markdown",
   "id": "393b05e2-c51c-41cd-9fd0-79ec7155620b",
   "metadata": {},
   "source": [
    "Again for the second dataframe after checking the above information, I noticed that there is no null values into dataframe, and these actions should be done :\n",
    "\n",
    "<ul>\n",
    "    <li>Apply strip, lower or upper functions on string columns based on column entity</li>\n",
    "    <li>Apply type of <b>Weight (kg)</b> and <b>Quantity</b> to be float64</li>\n",
    "    <li>Rename column <b>Material</b> to <b>Grade</b> to keep consistency for mergeing dataframes</li>\n",
    "    <li>Assign supplier name for each row for further checking</li>\n",
    "</ul>\n",
    "</br>"
   ]
  },
  {
   "cell_type": "code",
   "execution_count": 14,
   "id": "d196d7d5-f766-4255-9fd7-454f1ac10d65",
   "metadata": {},
   "outputs": [],
   "source": [
    "sup_2_df['Material'] = sup_2_df['Material'].str.strip().str.upper()\n",
    "sup_2_df['Reserved'] = sup_2_df['Reserved'].str.strip().str.upper()"
   ]
  },
  {
   "cell_type": "code",
   "execution_count": 15,
   "id": "d76cafe3-54de-4ebb-8289-3c98691e0914",
   "metadata": {},
   "outputs": [],
   "source": [
    "for column in ['Weight (kg)', 'Quantity']:\n",
    "    sup_2_df[column] = sup_2_df[column].astype(float)"
   ]
  },
  {
   "cell_type": "code",
   "execution_count": 16,
   "id": "059d8e8d-f516-4a62-b6a1-fb6d45514224",
   "metadata": {},
   "outputs": [],
   "source": [
    "sup_2_df = sup_2_df.rename(columns={\n",
    "    'Material': 'Grade'\n",
    "})"
   ]
  },
  {
   "cell_type": "code",
   "execution_count": 17,
   "id": "0189f24a-b530-4a89-bd0f-544470942713",
   "metadata": {},
   "outputs": [],
   "source": [
    "sup_2_df['Supplier'] = 'Supplier 2'"
   ]
  },
  {
   "cell_type": "code",
   "execution_count": 18,
   "id": "76d83693-5a37-4ce7-ad54-b7d2a2d9f409",
   "metadata": {},
   "outputs": [
    {
     "data": {
      "text/html": [
       "<div>\n",
       "<style scoped>\n",
       "    .dataframe tbody tr th:only-of-type {\n",
       "        vertical-align: middle;\n",
       "    }\n",
       "\n",
       "    .dataframe tbody tr th {\n",
       "        vertical-align: top;\n",
       "    }\n",
       "\n",
       "    .dataframe thead th {\n",
       "        text-align: right;\n",
       "    }\n",
       "</style>\n",
       "<table border=\"1\" class=\"dataframe\">\n",
       "  <thead>\n",
       "    <tr style=\"text-align: right;\">\n",
       "      <th></th>\n",
       "      <th>Grade</th>\n",
       "      <th>Description</th>\n",
       "      <th>Article ID</th>\n",
       "      <th>Weight (kg)</th>\n",
       "      <th>Quantity</th>\n",
       "      <th>Reserved</th>\n",
       "      <th>Supplier</th>\n",
       "    </tr>\n",
       "  </thead>\n",
       "  <tbody>\n",
       "    <tr>\n",
       "      <th>0</th>\n",
       "      <td>HDC</td>\n",
       "      <td>Material is Oiled</td>\n",
       "      <td>23048203</td>\n",
       "      <td>24469.0</td>\n",
       "      <td>52.0</td>\n",
       "      <td>NOT RESERVED</td>\n",
       "      <td>Supplier 2</td>\n",
       "    </tr>\n",
       "    <tr>\n",
       "      <th>1</th>\n",
       "      <td>S235JR</td>\n",
       "      <td>Material is Oiled</td>\n",
       "      <td>23040547</td>\n",
       "      <td>16984.0</td>\n",
       "      <td>41.0</td>\n",
       "      <td>NOT RESERVED</td>\n",
       "      <td>Supplier 2</td>\n",
       "    </tr>\n",
       "    <tr>\n",
       "      <th>2</th>\n",
       "      <td>S235JR</td>\n",
       "      <td>Material is Painted</td>\n",
       "      <td>23046057</td>\n",
       "      <td>9162.0</td>\n",
       "      <td>28.0</td>\n",
       "      <td>NOT RESERVED</td>\n",
       "      <td>Supplier 2</td>\n",
       "    </tr>\n",
       "    <tr>\n",
       "      <th>3</th>\n",
       "      <td>DX51D +AZ150</td>\n",
       "      <td>Material is Oiled</td>\n",
       "      <td>23041966</td>\n",
       "      <td>12119.0</td>\n",
       "      <td>66.0</td>\n",
       "      <td>VANILLA</td>\n",
       "      <td>Supplier 2</td>\n",
       "    </tr>\n",
       "    <tr>\n",
       "      <th>4</th>\n",
       "      <td>HDC</td>\n",
       "      <td>Material is Painted</td>\n",
       "      <td>23043884</td>\n",
       "      <td>17260.0</td>\n",
       "      <td>26.0</td>\n",
       "      <td>NOT RESERVED</td>\n",
       "      <td>Supplier 2</td>\n",
       "    </tr>\n",
       "  </tbody>\n",
       "</table>\n",
       "</div>"
      ],
      "text/plain": [
       "          Grade          Description  Article ID  Weight (kg)  Quantity  \\\n",
       "0           HDC    Material is Oiled    23048203      24469.0      52.0   \n",
       "1        S235JR    Material is Oiled    23040547      16984.0      41.0   \n",
       "2        S235JR  Material is Painted    23046057       9162.0      28.0   \n",
       "3  DX51D +AZ150    Material is Oiled    23041966      12119.0      66.0   \n",
       "4           HDC  Material is Painted    23043884      17260.0      26.0   \n",
       "\n",
       "       Reserved    Supplier  \n",
       "0  NOT RESERVED  Supplier 2  \n",
       "1  NOT RESERVED  Supplier 2  \n",
       "2  NOT RESERVED  Supplier 2  \n",
       "3       VANILLA  Supplier 2  \n",
       "4  NOT RESERVED  Supplier 2  "
      ]
     },
     "execution_count": 18,
     "metadata": {},
     "output_type": "execute_result"
    }
   ],
   "source": [
    "sup_2_df.head()"
   ]
  },
  {
   "cell_type": "markdown",
   "id": "65a7909f-267f-47df-98fb-a2ce7f50c082",
   "metadata": {},
   "source": [
    "#### Merge"
   ]
  },
  {
   "cell_type": "markdown",
   "id": "d8fc610d-0be4-4ff4-b7a8-7d4dfe5c72a0",
   "metadata": {},
   "source": [
    "In this section, we merge the both dataframes based on share columns and save `inventory_dataset.csv` file."
   ]
  },
  {
   "cell_type": "code",
   "execution_count": 19,
   "id": "9235a512-d665-43c4-9d8e-a10bd741d298",
   "metadata": {},
   "outputs": [
    {
     "name": "stdout",
     "output_type": "stream",
     "text": [
      "Shared columns: ['Grade', 'Description', 'Weight (kg)', 'Quantity', 'Supplier', 'Article ID']\n"
     ]
    }
   ],
   "source": [
    "shared_columns = sup_1_df.columns.intersection(sup_2_df.columns)\n",
    "print(\"Shared columns:\", shared_columns.tolist())"
   ]
  },
  {
   "cell_type": "code",
   "execution_count": 20,
   "id": "9327689e-7928-4810-a599-409b88dcd9d5",
   "metadata": {},
   "outputs": [],
   "source": [
    "sup_1_shared = sup_1_df[shared_columns]\n",
    "sup_2_shared = sup_2_df[shared_columns]\n",
    "inventory_dataset = pd.concat([sup_1_shared, sup_2_shared], ignore_index = True)"
   ]
  },
  {
   "cell_type": "markdown",
   "id": "1cc1a259-7b97-46cf-afd2-ee1eb3f46471",
   "metadata": {},
   "source": [
    "Becuase the inventory dataset belongs to the available steels, then we filter rows that has a zero quantity."
   ]
  },
  {
   "cell_type": "code",
   "execution_count": 21,
   "id": "3eef3898-4c30-45a8-ba89-1455c423d670",
   "metadata": {},
   "outputs": [],
   "source": [
    "inventory_dataset = inventory_dataset[inventory_dataset['Quantity'] > 0]"
   ]
  },
  {
   "cell_type": "code",
   "execution_count": 22,
   "id": "228a2238-b1c9-4c11-a39d-dfd988394df2",
   "metadata": {},
   "outputs": [
    {
     "data": {
      "text/html": [
       "<div>\n",
       "<style scoped>\n",
       "    .dataframe tbody tr th:only-of-type {\n",
       "        vertical-align: middle;\n",
       "    }\n",
       "\n",
       "    .dataframe tbody tr th {\n",
       "        vertical-align: top;\n",
       "    }\n",
       "\n",
       "    .dataframe thead th {\n",
       "        text-align: right;\n",
       "    }\n",
       "</style>\n",
       "<table border=\"1\" class=\"dataframe\">\n",
       "  <thead>\n",
       "    <tr style=\"text-align: right;\">\n",
       "      <th></th>\n",
       "      <th>Grade</th>\n",
       "      <th>Description</th>\n",
       "      <th>Weight (kg)</th>\n",
       "      <th>Quantity</th>\n",
       "      <th>Supplier</th>\n",
       "      <th>Article ID</th>\n",
       "    </tr>\n",
       "  </thead>\n",
       "  <tbody>\n",
       "    <tr>\n",
       "      <th>58</th>\n",
       "      <td>S235JR</td>\n",
       "      <td>Material is Oiled</td>\n",
       "      <td>10571.0</td>\n",
       "      <td>60.00</td>\n",
       "      <td>Supplier 2</td>\n",
       "      <td>23044935</td>\n",
       "    </tr>\n",
       "    <tr>\n",
       "      <th>8</th>\n",
       "      <td>C200S</td>\n",
       "      <td>Längs- oder Querisse</td>\n",
       "      <td>5491.0</td>\n",
       "      <td>22.87</td>\n",
       "      <td>Supplier 1</td>\n",
       "      <td>9</td>\n",
       "    </tr>\n",
       "    <tr>\n",
       "      <th>55</th>\n",
       "      <td>DX51D +Z140</td>\n",
       "      <td>Material is not Oiled</td>\n",
       "      <td>23258.0</td>\n",
       "      <td>60.00</td>\n",
       "      <td>Supplier 2</td>\n",
       "      <td>23048868</td>\n",
       "    </tr>\n",
       "    <tr>\n",
       "      <th>81</th>\n",
       "      <td>DX51D +AZ150</td>\n",
       "      <td>Material is Oiled</td>\n",
       "      <td>21609.0</td>\n",
       "      <td>33.00</td>\n",
       "      <td>Supplier 2</td>\n",
       "      <td>23049907</td>\n",
       "    </tr>\n",
       "    <tr>\n",
       "      <th>12</th>\n",
       "      <td>C100S</td>\n",
       "      <td>Längs- oder Querisse</td>\n",
       "      <td>12787.0</td>\n",
       "      <td>25.46</td>\n",
       "      <td>Supplier 1</td>\n",
       "      <td>13</td>\n",
       "    </tr>\n",
       "  </tbody>\n",
       "</table>\n",
       "</div>"
      ],
      "text/plain": [
       "           Grade            Description  Weight (kg)  Quantity    Supplier  \\\n",
       "58        S235JR      Material is Oiled      10571.0     60.00  Supplier 2   \n",
       "8          C200S   Längs- oder Querisse       5491.0     22.87  Supplier 1   \n",
       "55   DX51D +Z140  Material is not Oiled      23258.0     60.00  Supplier 2   \n",
       "81  DX51D +AZ150      Material is Oiled      21609.0     33.00  Supplier 2   \n",
       "12         C100S   Längs- oder Querisse      12787.0     25.46  Supplier 1   \n",
       "\n",
       "    Article ID  \n",
       "58    23044935  \n",
       "8            9  \n",
       "55    23048868  \n",
       "81    23049907  \n",
       "12          13  "
      ]
     },
     "execution_count": 22,
     "metadata": {},
     "output_type": "execute_result"
    }
   ],
   "source": [
    "inventory_dataset.sample(frac=1).head()"
   ]
  },
  {
   "cell_type": "code",
   "execution_count": 23,
   "id": "ee1197b3-55e6-4414-92ed-ccf6ff9bf5f5",
   "metadata": {},
   "outputs": [],
   "source": [
    "os.makedirs(OUTPUT_FOLDER_PATH, exist_ok=True)\n",
    "inventory_dataset.to_csv(os.path.join(OUTPUT_FOLDER_PATH, 'inventory_dataset.csv'), index=False)"
   ]
  },
  {
   "cell_type": "markdown",
   "id": "b12ce41a-b96d-4cbd-9d56-f91db56ec75a",
   "metadata": {},
   "source": [
    "## Task 2"
   ]
  },
  {
   "cell_type": "markdown",
   "id": "58d9900b-0ddc-4cf4-8f98-0f6d5946c31f",
   "metadata": {},
   "source": [
    "### Task B.1 - Reference Join & Missing Values"
   ]
  },
  {
   "cell_type": "markdown",
   "id": "b478627c-ad58-4d28-83fb-2945c189229a",
   "metadata": {},
   "source": [
    "For the first step, to reduce the columns which are useless, in both dataframes, we drop columns that all of the values are null."
   ]
  },
  {
   "cell_type": "code",
   "execution_count": 24,
   "id": "15e93e76-3daf-40da-96ae-ea9ef9145733",
   "metadata": {},
   "outputs": [],
   "source": [
    "rfq_df=rfq_df.dropna(axis=1, how='all')\n",
    "ref_df=ref_df.dropna(axis=1, how='all')"
   ]
  },
  {
   "cell_type": "markdown",
   "id": "b2e5582d-91b6-4c17-bfbc-bd93c61b961f",
   "metadata": {},
   "source": [
    "First we take a look at the columns and values to get better information about the columns and values."
   ]
  },
  {
   "cell_type": "code",
   "execution_count": 25,
   "id": "4049b14d-89ed-4d45-bbfb-be6b852473f2",
   "metadata": {},
   "outputs": [
    {
     "data": {
      "text/html": [
       "<div>\n",
       "<style scoped>\n",
       "    .dataframe tbody tr th:only-of-type {\n",
       "        vertical-align: middle;\n",
       "    }\n",
       "\n",
       "    .dataframe tbody tr th {\n",
       "        vertical-align: top;\n",
       "    }\n",
       "\n",
       "    .dataframe thead th {\n",
       "        text-align: right;\n",
       "    }\n",
       "</style>\n",
       "<table border=\"1\" class=\"dataframe\">\n",
       "  <thead>\n",
       "    <tr style=\"text-align: right;\">\n",
       "      <th></th>\n",
       "      <th>id</th>\n",
       "      <th>grade</th>\n",
       "      <th>coating</th>\n",
       "      <th>finish</th>\n",
       "      <th>surface_type</th>\n",
       "      <th>surface_protection</th>\n",
       "      <th>form</th>\n",
       "      <th>thickness_min</th>\n",
       "      <th>thickness_max</th>\n",
       "      <th>width_min</th>\n",
       "      <th>...</th>\n",
       "      <th>weight_min</th>\n",
       "      <th>weight_max</th>\n",
       "      <th>inner_diameter_min</th>\n",
       "      <th>inner_diameter_max</th>\n",
       "      <th>outer_diameter_min</th>\n",
       "      <th>outer_diameter_max</th>\n",
       "      <th>yield_strength_min</th>\n",
       "      <th>yield_strength_max</th>\n",
       "      <th>tensile_strength_min</th>\n",
       "      <th>tensile_strength_max</th>\n",
       "    </tr>\n",
       "  </thead>\n",
       "  <tbody>\n",
       "    <tr>\n",
       "      <th>0</th>\n",
       "      <td>8aff426d-b8c0-43aa-ad26-835ef4de6129</td>\n",
       "      <td>S700MC</td>\n",
       "      <td>NaN</td>\n",
       "      <td>Oiled</td>\n",
       "      <td>NaN</td>\n",
       "      <td>NaN</td>\n",
       "      <td>Coils</td>\n",
       "      <td>6.0</td>\n",
       "      <td>6.0</td>\n",
       "      <td>600.0</td>\n",
       "      <td>...</td>\n",
       "      <td>15000.0</td>\n",
       "      <td>25000.0</td>\n",
       "      <td>610.0</td>\n",
       "      <td>610.0</td>\n",
       "      <td>NaN</td>\n",
       "      <td>NaN</td>\n",
       "      <td>NaN</td>\n",
       "      <td>NaN</td>\n",
       "      <td>760.0</td>\n",
       "      <td>810.0</td>\n",
       "    </tr>\n",
       "    <tr>\n",
       "      <th>1</th>\n",
       "      <td>37e624be-b125-464f-85b6-1838530193ef</td>\n",
       "      <td>S250GD</td>\n",
       "      <td>ZM310</td>\n",
       "      <td>Hot-dip zinc magnesium (+ZM)</td>\n",
       "      <td>NaN</td>\n",
       "      <td>NaN</td>\n",
       "      <td>Slit Coils</td>\n",
       "      <td>1.5</td>\n",
       "      <td>1.5</td>\n",
       "      <td>327.0</td>\n",
       "      <td>...</td>\n",
       "      <td>NaN</td>\n",
       "      <td>NaN</td>\n",
       "      <td>NaN</td>\n",
       "      <td>NaN</td>\n",
       "      <td>NaN</td>\n",
       "      <td>NaN</td>\n",
       "      <td>NaN</td>\n",
       "      <td>NaN</td>\n",
       "      <td>NaN</td>\n",
       "      <td>NaN</td>\n",
       "    </tr>\n",
       "    <tr>\n",
       "      <th>2</th>\n",
       "      <td>b8257184-6307-46ab-b06e-d979336d1263</td>\n",
       "      <td>DX51D</td>\n",
       "      <td>Z100</td>\n",
       "      <td>Hot-dip Galvanized (+Z/+GI)</td>\n",
       "      <td>NaN</td>\n",
       "      <td>Lightly Oiled (L)</td>\n",
       "      <td>Coils</td>\n",
       "      <td>0.4</td>\n",
       "      <td>0.4</td>\n",
       "      <td>1000.0</td>\n",
       "      <td>...</td>\n",
       "      <td>NaN</td>\n",
       "      <td>NaN</td>\n",
       "      <td>NaN</td>\n",
       "      <td>NaN</td>\n",
       "      <td>NaN</td>\n",
       "      <td>NaN</td>\n",
       "      <td>NaN</td>\n",
       "      <td>NaN</td>\n",
       "      <td>NaN</td>\n",
       "      <td>NaN</td>\n",
       "    </tr>\n",
       "    <tr>\n",
       "      <th>3</th>\n",
       "      <td>63140d1f-dda8-40fe-8931-bcaba65d5772</td>\n",
       "      <td>S235</td>\n",
       "      <td>NaN</td>\n",
       "      <td>NaN</td>\n",
       "      <td>NaN</td>\n",
       "      <td>NaN</td>\n",
       "      <td>Round Tubes</td>\n",
       "      <td>1.5</td>\n",
       "      <td>1.5</td>\n",
       "      <td>NaN</td>\n",
       "      <td>...</td>\n",
       "      <td>53800.0</td>\n",
       "      <td>53800.0</td>\n",
       "      <td>NaN</td>\n",
       "      <td>NaN</td>\n",
       "      <td>60.3</td>\n",
       "      <td>NaN</td>\n",
       "      <td>NaN</td>\n",
       "      <td>NaN</td>\n",
       "      <td>NaN</td>\n",
       "      <td>NaN</td>\n",
       "    </tr>\n",
       "    <tr>\n",
       "      <th>4</th>\n",
       "      <td>11cffc57-44be-4d79-bfd5-97482be566d3</td>\n",
       "      <td>S235</td>\n",
       "      <td>NaN</td>\n",
       "      <td>NaN</td>\n",
       "      <td>NaN</td>\n",
       "      <td>NaN</td>\n",
       "      <td>Round Tubes</td>\n",
       "      <td>1.5</td>\n",
       "      <td>1.5</td>\n",
       "      <td>NaN</td>\n",
       "      <td>...</td>\n",
       "      <td>14500.0</td>\n",
       "      <td>14500.0</td>\n",
       "      <td>NaN</td>\n",
       "      <td>NaN</td>\n",
       "      <td>48.3</td>\n",
       "      <td>NaN</td>\n",
       "      <td>NaN</td>\n",
       "      <td>NaN</td>\n",
       "      <td>NaN</td>\n",
       "      <td>NaN</td>\n",
       "    </tr>\n",
       "  </tbody>\n",
       "</table>\n",
       "<p>5 rows × 24 columns</p>\n",
       "</div>"
      ],
      "text/plain": [
       "                                     id   grade coating  \\\n",
       "0  8aff426d-b8c0-43aa-ad26-835ef4de6129  S700MC     NaN   \n",
       "1  37e624be-b125-464f-85b6-1838530193ef  S250GD   ZM310   \n",
       "2  b8257184-6307-46ab-b06e-d979336d1263   DX51D    Z100   \n",
       "3  63140d1f-dda8-40fe-8931-bcaba65d5772    S235     NaN   \n",
       "4  11cffc57-44be-4d79-bfd5-97482be566d3    S235     NaN   \n",
       "\n",
       "                         finish surface_type surface_protection         form  \\\n",
       "0                         Oiled          NaN                NaN        Coils   \n",
       "1  Hot-dip zinc magnesium (+ZM)          NaN                NaN   Slit Coils   \n",
       "2   Hot-dip Galvanized (+Z/+GI)          NaN  Lightly Oiled (L)        Coils   \n",
       "3                           NaN          NaN                NaN  Round Tubes   \n",
       "4                           NaN          NaN                NaN  Round Tubes   \n",
       "\n",
       "   thickness_min  thickness_max  width_min  ...  weight_min  weight_max  \\\n",
       "0            6.0            6.0      600.0  ...     15000.0     25000.0   \n",
       "1            1.5            1.5      327.0  ...         NaN         NaN   \n",
       "2            0.4            0.4     1000.0  ...         NaN         NaN   \n",
       "3            1.5            1.5        NaN  ...     53800.0     53800.0   \n",
       "4            1.5            1.5        NaN  ...     14500.0     14500.0   \n",
       "\n",
       "   inner_diameter_min  inner_diameter_max  outer_diameter_min  \\\n",
       "0               610.0               610.0                 NaN   \n",
       "1                 NaN                 NaN                 NaN   \n",
       "2                 NaN                 NaN                 NaN   \n",
       "3                 NaN                 NaN                60.3   \n",
       "4                 NaN                 NaN                48.3   \n",
       "\n",
       "   outer_diameter_max  yield_strength_min  yield_strength_max  \\\n",
       "0                 NaN                 NaN                 NaN   \n",
       "1                 NaN                 NaN                 NaN   \n",
       "2                 NaN                 NaN                 NaN   \n",
       "3                 NaN                 NaN                 NaN   \n",
       "4                 NaN                 NaN                 NaN   \n",
       "\n",
       "   tensile_strength_min  tensile_strength_max  \n",
       "0                 760.0                 810.0  \n",
       "1                   NaN                   NaN  \n",
       "2                   NaN                   NaN  \n",
       "3                   NaN                   NaN  \n",
       "4                   NaN                   NaN  \n",
       "\n",
       "[5 rows x 24 columns]"
      ]
     },
     "execution_count": 25,
     "metadata": {},
     "output_type": "execute_result"
    }
   ],
   "source": [
    "rfq_df.head()"
   ]
  },
  {
   "cell_type": "code",
   "execution_count": 26,
   "id": "9ec87ccd-b2d3-4a30-93f2-f13e5461bd25",
   "metadata": {},
   "outputs": [
    {
     "data": {
      "text/html": [
       "<div>\n",
       "<style scoped>\n",
       "    .dataframe tbody tr th:only-of-type {\n",
       "        vertical-align: middle;\n",
       "    }\n",
       "\n",
       "    .dataframe tbody tr th {\n",
       "        vertical-align: top;\n",
       "    }\n",
       "\n",
       "    .dataframe thead th {\n",
       "        text-align: right;\n",
       "    }\n",
       "</style>\n",
       "<table border=\"1\" class=\"dataframe\">\n",
       "  <thead>\n",
       "    <tr style=\"text-align: right;\">\n",
       "      <th></th>\n",
       "      <th>Grade/Material</th>\n",
       "      <th>Standards</th>\n",
       "      <th>Carbon (C)</th>\n",
       "      <th>Manganese (Mn)</th>\n",
       "      <th>Silicon (Si)</th>\n",
       "      <th>Sulfur (S)</th>\n",
       "      <th>Phosphorus (P)</th>\n",
       "      <th>Chromium (Cr)</th>\n",
       "      <th>Nickel (Ni)</th>\n",
       "      <th>Molybdenum (Mo)</th>\n",
       "      <th>...</th>\n",
       "      <th>Tensile strength (Rm)</th>\n",
       "      <th>Yield strength (Re or Rp0.2)</th>\n",
       "      <th>Elongation (A%)</th>\n",
       "      <th>Hardness (HB, HV, HRC)</th>\n",
       "      <th>Impact toughness (Charpy V-notch)</th>\n",
       "      <th>Source_Pages</th>\n",
       "      <th>Application</th>\n",
       "      <th>Category</th>\n",
       "      <th>Nb + V + Ti (Others)</th>\n",
       "      <th>Coating</th>\n",
       "    </tr>\n",
       "  </thead>\n",
       "  <tbody>\n",
       "    <tr>\n",
       "      <th>0</th>\n",
       "      <td>S235JR</td>\n",
       "      <td>EN 10025-2:2019</td>\n",
       "      <td>≤0.17</td>\n",
       "      <td>≤1.40</td>\n",
       "      <td>≤0.40</td>\n",
       "      <td>≤0.035</td>\n",
       "      <td>≤0.035</td>\n",
       "      <td>NaN</td>\n",
       "      <td>NaN</td>\n",
       "      <td>NaN</td>\n",
       "      <td>...</td>\n",
       "      <td>360-510 MPa</td>\n",
       "      <td>≥235 MPa</td>\n",
       "      <td>≥26%</td>\n",
       "      <td>NaN</td>\n",
       "      <td>27J at 20°C</td>\n",
       "      <td>Standard Specifications</td>\n",
       "      <td>General structural steels</td>\n",
       "      <td>Structural Steel</td>\n",
       "      <td>NaN</td>\n",
       "      <td>NaN</td>\n",
       "    </tr>\n",
       "    <tr>\n",
       "      <th>1</th>\n",
       "      <td>S275JR</td>\n",
       "      <td>EN 10025-2:2019</td>\n",
       "      <td>≤0.21</td>\n",
       "      <td>≤1.50</td>\n",
       "      <td>≤0.40</td>\n",
       "      <td>≤0.035</td>\n",
       "      <td>≤0.035</td>\n",
       "      <td>NaN</td>\n",
       "      <td>NaN</td>\n",
       "      <td>NaN</td>\n",
       "      <td>...</td>\n",
       "      <td>410-560 MPa</td>\n",
       "      <td>≥275 MPa</td>\n",
       "      <td>≥23%</td>\n",
       "      <td>NaN</td>\n",
       "      <td>27J at 20°C</td>\n",
       "      <td>Standard Specifications</td>\n",
       "      <td>General structural steels</td>\n",
       "      <td>Structural Steel</td>\n",
       "      <td>NaN</td>\n",
       "      <td>NaN</td>\n",
       "    </tr>\n",
       "    <tr>\n",
       "      <th>2</th>\n",
       "      <td>S355JR</td>\n",
       "      <td>EN 10025-2:2019</td>\n",
       "      <td>≤0.24</td>\n",
       "      <td>≤1.60</td>\n",
       "      <td>≤0.55</td>\n",
       "      <td>≤0.035</td>\n",
       "      <td>≤0.035</td>\n",
       "      <td>NaN</td>\n",
       "      <td>NaN</td>\n",
       "      <td>NaN</td>\n",
       "      <td>...</td>\n",
       "      <td>470-630 MPa</td>\n",
       "      <td>≥355 MPa</td>\n",
       "      <td>≥22%</td>\n",
       "      <td>NaN</td>\n",
       "      <td>27J at 20°C</td>\n",
       "      <td>Standard Specifications</td>\n",
       "      <td>General structural steels</td>\n",
       "      <td>Structural Steel</td>\n",
       "      <td>NaN</td>\n",
       "      <td>NaN</td>\n",
       "    </tr>\n",
       "    <tr>\n",
       "      <th>3</th>\n",
       "      <td>S420M</td>\n",
       "      <td>EN 10025-3:2019</td>\n",
       "      <td>≤0.20</td>\n",
       "      <td>1.00-1.70</td>\n",
       "      <td>≤0.50</td>\n",
       "      <td>≤0.025</td>\n",
       "      <td>≤0.030</td>\n",
       "      <td>≤0.30</td>\n",
       "      <td>≤0.50</td>\n",
       "      <td>≤0.10</td>\n",
       "      <td>...</td>\n",
       "      <td>520-680 MPa</td>\n",
       "      <td>≥420 MPa</td>\n",
       "      <td>≥19%</td>\n",
       "      <td>NaN</td>\n",
       "      <td>27J at -20°C</td>\n",
       "      <td>Standard Specifications</td>\n",
       "      <td>Thermomechanically rolled steels</td>\n",
       "      <td>High Strength Steel</td>\n",
       "      <td>NaN</td>\n",
       "      <td>NaN</td>\n",
       "    </tr>\n",
       "    <tr>\n",
       "      <th>4</th>\n",
       "      <td>S460M</td>\n",
       "      <td>EN 10025-3:2019</td>\n",
       "      <td>≤0.20</td>\n",
       "      <td>1.00-1.70</td>\n",
       "      <td>≤0.50</td>\n",
       "      <td>≤0.025</td>\n",
       "      <td>≤0.030</td>\n",
       "      <td>≤0.30</td>\n",
       "      <td>≤0.50</td>\n",
       "      <td>≤0.10</td>\n",
       "      <td>...</td>\n",
       "      <td>540-720 MPa</td>\n",
       "      <td>≥460 MPa</td>\n",
       "      <td>≥17%</td>\n",
       "      <td>NaN</td>\n",
       "      <td>27J at -20°C</td>\n",
       "      <td>Standard Specifications</td>\n",
       "      <td>Thermomechanically rolled steels</td>\n",
       "      <td>High Strength Steel</td>\n",
       "      <td>NaN</td>\n",
       "      <td>NaN</td>\n",
       "    </tr>\n",
       "  </tbody>\n",
       "</table>\n",
       "<p>5 rows × 27 columns</p>\n",
       "</div>"
      ],
      "text/plain": [
       "  Grade/Material        Standards Carbon (C) Manganese (Mn) Silicon (Si)  \\\n",
       "0         S235JR  EN 10025-2:2019      ≤0.17          ≤1.40        ≤0.40   \n",
       "1         S275JR  EN 10025-2:2019      ≤0.21          ≤1.50        ≤0.40   \n",
       "2         S355JR  EN 10025-2:2019      ≤0.24          ≤1.60        ≤0.55   \n",
       "3          S420M  EN 10025-3:2019      ≤0.20      1.00-1.70        ≤0.50   \n",
       "4          S460M  EN 10025-3:2019      ≤0.20      1.00-1.70        ≤0.50   \n",
       "\n",
       "  Sulfur (S) Phosphorus (P) Chromium (Cr) Nickel (Ni) Molybdenum (Mo)  ...  \\\n",
       "0     ≤0.035         ≤0.035           NaN         NaN             NaN  ...   \n",
       "1     ≤0.035         ≤0.035           NaN         NaN             NaN  ...   \n",
       "2     ≤0.035         ≤0.035           NaN         NaN             NaN  ...   \n",
       "3     ≤0.025         ≤0.030         ≤0.30       ≤0.50           ≤0.10  ...   \n",
       "4     ≤0.025         ≤0.030         ≤0.30       ≤0.50           ≤0.10  ...   \n",
       "\n",
       "  Tensile strength (Rm) Yield strength (Re or Rp0.2) Elongation (A%)  \\\n",
       "0           360-510 MPa                     ≥235 MPa            ≥26%   \n",
       "1           410-560 MPa                     ≥275 MPa            ≥23%   \n",
       "2           470-630 MPa                     ≥355 MPa            ≥22%   \n",
       "3           520-680 MPa                     ≥420 MPa            ≥19%   \n",
       "4           540-720 MPa                     ≥460 MPa            ≥17%   \n",
       "\n",
       "  Hardness (HB, HV, HRC) Impact toughness (Charpy V-notch)  \\\n",
       "0                    NaN                       27J at 20°C   \n",
       "1                    NaN                       27J at 20°C   \n",
       "2                    NaN                       27J at 20°C   \n",
       "3                    NaN                      27J at -20°C   \n",
       "4                    NaN                      27J at -20°C   \n",
       "\n",
       "              Source_Pages                       Application  \\\n",
       "0  Standard Specifications         General structural steels   \n",
       "1  Standard Specifications         General structural steels   \n",
       "2  Standard Specifications         General structural steels   \n",
       "3  Standard Specifications  Thermomechanically rolled steels   \n",
       "4  Standard Specifications  Thermomechanically rolled steels   \n",
       "\n",
       "              Category Nb + V + Ti (Others) Coating  \n",
       "0     Structural Steel                  NaN     NaN  \n",
       "1     Structural Steel                  NaN     NaN  \n",
       "2     Structural Steel                  NaN     NaN  \n",
       "3  High Strength Steel                  NaN     NaN  \n",
       "4  High Strength Steel                  NaN     NaN  \n",
       "\n",
       "[5 rows x 27 columns]"
      ]
     },
     "execution_count": 26,
     "metadata": {},
     "output_type": "execute_result"
    }
   ],
   "source": [
    "ref_df.head()"
   ]
  },
  {
   "cell_type": "markdown",
   "id": "ae35533b-59d2-4da1-9c3d-1e969c882674",
   "metadata": {},
   "source": [
    "First step as requested, is to normalize grade keys in both dataframes. Let's take a look to the values of grade columns in both dataframes, and then strip and upper all of the keys and later extract suffix from grades."
   ]
  },
  {
   "cell_type": "code",
   "execution_count": 27,
   "id": "687aee23-4dfc-4947-9c13-4ec3880492dd",
   "metadata": {},
   "outputs": [
    {
     "data": {
      "text/plain": [
       "array(['S700MC', 'S250GD', 'DX51D', 'S235', 'S355MC', 'DC01', 'S500MC',\n",
       "       'S235JR', 'S220GD', 'DD11', 'HC420LA', 'DC04', 'DC03', 'S420',\n",
       "       'S500', 'DX51', 'S320GD', 'S420MC', 'S355JR', nan, 'S600MC',\n",
       "       'S355J2+N', 'S355', 'S460', 'S355J2C', 'CR460LA', 'CR420LA',\n",
       "       'S550GD', 'S460MC', '22MnB5', 'HC260LA', 'S320MC', 'DX54D',\n",
       "       'S315MC', 'S235JRG2', 'HX180YD', 'HE320D', 'C45+C', 'C50', 'C55',\n",
       "       'C60', 'Cf53', 'C45R', '42CrMoS4', '1.2343', 'DX56D', 'S450',\n",
       "       'S350', 'CR240LA', '46SiCrMo6', '42CrMo4', '16Mo3', 'CR210',\n",
       "       'CR240', 'S275JR', 'HX420LAD', 'S350GD', 'CR380LA', 'DC06',\n",
       "       'HC500LA', 'HC550LA', 'S650MC', 'Hardox 450', 'DX54', 'DX53',\n",
       "       'HX300LAD', 'HC260', 'S550MC', 'DD13', 'DD12', 'P265GH', 'S355J2',\n",
       "       'DD14', 'CR340', 'HC260LAD', 'HC340LA', 'C1000S', 'S55GD', 'S280',\n",
       "       'HX340LAD', 'CR210IF', 'HC220B', 'CR300LA', 'HX380', 'HX420',\n",
       "       'HX300', '34CrNiMo6+QT', '11SMn30', 'DP780', 'CR180BH', '26Mnb5',\n",
       "       'HC380La', 'MC', 'HX260LAD', 'HCT980XG', 'S280GD', 'CR3',\n",
       "       '16MnCrS5', 'EK', 'CR440Y780T-DP', 'DC02', '34MnB5', '26MnB5',\n",
       "       'DC05', 'DC03ED', 'DC03EK', 'DC01ED', 'DC01EK', 'S355K2+N',\n",
       "       'S380MC', 'A182 F22', 'S275', 'CR4', 'S450GD', 'HC700', 'HC380LA',\n",
       "       'HCT590X', 'DP600', 'HC660XD', 'St22', 'HCT600X', 'HCT780X',\n",
       "       'IPE330', 'HEA', 'HEB', 'IPE', 'IPN', 'DP800', 'CR440Y780T',\n",
       "       'CR330Y590T', 'HR550LA-HD50G50G', 'CR440Y780T DP', 'DX', 'DX52D',\n",
       "       'CR700Y980T-DP', 'S260MC', 'CR460', 'S550', 'X', '1.2083',\n",
       "       '42CrMo4+QT', '304', 'HC180', 'HC300', 'DX53D', 'S350G', 'DX52',\n",
       "       'DX55', 'DX56', 'HC260Y', 'H380LAD', '95Cr1', 'C100', 'HC340',\n",
       "       'A11', 'DC01AM', 'CR340LA', 'S355K2', 'CR590Y980T-DP'],\n",
       "      dtype=object)"
      ]
     },
     "execution_count": 27,
     "metadata": {},
     "output_type": "execute_result"
    }
   ],
   "source": [
    "rfq_df['grade'].unique()"
   ]
  },
  {
   "cell_type": "code",
   "execution_count": 28,
   "id": "92fa1756-2e03-4a8d-a47c-02a766c9fcb5",
   "metadata": {},
   "outputs": [
    {
     "data": {
      "text/plain": [
       "array(['S235JR', 'S275JR', 'S355JR', 'S420M', 'S460M', 'S500MC', 'S700MC',\n",
       "       'S960MC', 'DC01', 'DC03', 'DC04', 'DD11', 'DX51D', 'DX52D',\n",
       "       'DX53D', 'S250GD', 'S350GD', 'DP600', 'DP780', 'DP980', 'TRIP780',\n",
       "       'CP800', 'HC420LA', 'CR240LA', 'Hardox 400', 'Hardox 500',\n",
       "       '1.2379', '1.2714', 'DC06', 'DD13', 'DD14', 'DX54', 'S55GD',\n",
       "       'S355', 'HC260', 'HC700', 'HC660XD', 'CR3', 'CR240', 'CR340',\n",
       "       'CR340LA', '1.2083', '46SiCrMo6', '304', '316', '321', '430',\n",
       "       '410', '420', '17-4PH', '2205', '1.2343', '42CrMo4', '42CrMo4+QT',\n",
       "       '42CrMoS4', '34CrNiMo6+QT', '22MnB5', '26MnB5', '26Mnb5', '34MnB5',\n",
       "       'C45+C', 'C45R', 'C50', 'C55', 'C60', 'C100', 'CR210IF', 'CR180BH',\n",
       "       'CR210', 'CR300LA', 'CR380LA', 'CR420LA', 'CR460', 'CR460LA',\n",
       "       'CR440Y780T DP', 'CR440Y780T-DP', 'CR330Y590T', 'CR440Y780T',\n",
       "       '11SMn30', '16MnCrS5', '16Mo3', 'CR4', 'S235', 'S275', 'S355J2',\n",
       "       'S355J2+N', 'S420', 'S460', 'S420MC', 'S460MC', 'S550MC', 'S600MC',\n",
       "       'S650MC', 'S220GD', 'S280GD', 'S320GD', 'S450GD', 'S550GD', 'DC02',\n",
       "       'DC05', 'DD12', 'P265GH', 'DP800', 'Hardox 450', 'S235JRG2',\n",
       "       'S280', 'S350', 'S450', 'S500', 'S550', 'S260MC', 'S315MC',\n",
       "       'S320MC', 'S355MC', 'S380MC', 'S350G', 'DX51', 'DX52', 'DX53',\n",
       "       'DX54D', 'DX55', 'DX56', 'DX56D', 'DC01AM', 'DC01ED', 'DC01EK',\n",
       "       'DC03ED', 'DC03EK', 'EK', 'HC180', 'HC220B', 'HC260LA', 'HC260LAD',\n",
       "       'HC260Y', 'HC300', 'HC340', 'HC340LA', 'HC380LA', 'HC380La',\n",
       "       'HC500LA', 'HC550LA', '95Cr1', 'Cf53', 'C1000S', 'St22', 'A11',\n",
       "       'A182 F22', 'IPE', 'IPE330', 'HEA', 'HEB', 'IPN', 'H380LAD',\n",
       "       'HE320D', 'HR550LA-HD50G50G', 'HCT590X', 'HCT600X', 'HCT780X',\n",
       "       'HCT980XG', 'CR590Y980T-DP', 'CR700Y980T-DP', 'DX', 'MC',\n",
       "       'S355J2C', 'S355K2', 'S355K2+N', 'X', 'HX180YD', 'HX260LAD',\n",
       "       'HX300', 'HX300LAD', 'HX340LAD', 'HX380', 'HX420', 'HX420LAD'],\n",
       "      dtype=object)"
      ]
     },
     "execution_count": 28,
     "metadata": {},
     "output_type": "execute_result"
    }
   ],
   "source": [
    "ref_df['Grade/Material'].unique()"
   ]
  },
  {
   "cell_type": "code",
   "execution_count": 29,
   "id": "20409f04-0b7d-47d8-bfe1-5aae9f29656d",
   "metadata": {},
   "outputs": [],
   "source": [
    "rfq_df['grade'] = rfq_df['grade'].str.upper().str.strip()\n",
    "ref_df['Grade/Material'] = ref_df['Grade/Material'].str.upper().str.strip()"
   ]
  },
  {
   "cell_type": "markdown",
   "id": "e8184b1f-b729-40eb-b1ce-d29e4dda6abc",
   "metadata": {},
   "source": [
    "Now, we will extract suffixes from grades and put into different columns, my assumption is that the base value of steel would be characters following by numbers, then any character after that would be our suffix."
   ]
  },
  {
   "cell_type": "code",
   "execution_count": 30,
   "id": "8669f20b-7135-499f-8db7-e657d6a149a8",
   "metadata": {},
   "outputs": [],
   "source": [
    "pattern = r'^([A-Z]*\\d+)(.*)$'"
   ]
  },
  {
   "cell_type": "code",
   "execution_count": 31,
   "id": "1c619436-8704-4f4f-b667-7d17ecfb23e4",
   "metadata": {},
   "outputs": [],
   "source": [
    "def split_grade(grade):\n",
    "    if pd.isna(grade):\n",
    "        return np.nan, np.nan\n",
    "    if grade.replace(\".\",\"\").isnumeric():\n",
    "        return grade, np.nan\n",
    "    match = re.match(pattern, grade)\n",
    "    if match:\n",
    "        return match.group(1), match.group(2) if match.group(2) != '' else np.nan\n",
    "    return grade, np.nan"
   ]
  },
  {
   "cell_type": "code",
   "execution_count": 32,
   "id": "2d89c970-5e82-4c53-b971-df170db4791e",
   "metadata": {},
   "outputs": [],
   "source": [
    "rfq_df[['grade', 'Suffix']] = rfq_df['grade'].apply(lambda x: pd.Series(split_grade(x)))\n",
    "ref_df[['Grade/Material', 'Suffix']] = ref_df['Grade/Material'].apply(lambda x: pd.Series(split_grade(x)))"
   ]
  },
  {
   "cell_type": "markdown",
   "id": "46852704-0601-4eec-ae01-e78d55d35ea8",
   "metadata": {},
   "source": [
    "Next, in order to keep consistency in our data, we drop duplicates in `ref_df` dataframe and keep the first occurence."
   ]
  },
  {
   "cell_type": "code",
   "execution_count": 33,
   "id": "806936bf-eaed-4aab-9703-a4fd35625e75",
   "metadata": {},
   "outputs": [
    {
     "name": "stdout",
     "output_type": "stream",
     "text": [
      "Number of duplicate rows in ref_df: 2\n"
     ]
    }
   ],
   "source": [
    "duplicates_mask = ref_df.duplicated(subset=['Grade/Material', 'Suffix'])\n",
    "num_duplicates = duplicates_mask.sum()\n",
    "print(f\"Number of duplicate rows in ref_df: {num_duplicates}\")\n",
    "ref_df = ref_df.drop_duplicates(subset=['Grade/Material', 'Suffix'], keep='first')"
   ]
  },
  {
   "cell_type": "markdown",
   "id": "89d18f89-b8e6-4ab5-b31e-559858a988e1",
   "metadata": {},
   "source": [
    "For the next step, in the `ref_df` we parse range string into numeric values. We selected all of the columns that have range strings."
   ]
  },
  {
   "cell_type": "code",
   "execution_count": 34,
   "id": "7c8d6bf0-1dd2-4fa5-ae48-5298b9d5e309",
   "metadata": {},
   "outputs": [],
   "source": [
    "def parse_string(value):\n",
    "    if pd.isna(value):\n",
    "        return np.nan, np.nan, np.nan\n",
    "        \n",
    "    if \"-\" in value and not any(symbol in value for symbol in [\"<\", \">\", \"<=\", \"=>\", \"≤\", \"≥\"]):\n",
    "        parts = re.findall(r\"[\\d\\.]+\", value)\n",
    "        if len(parts) == 2:\n",
    "            low, high = map(float, parts)\n",
    "            return (low, high, (low + high) / 2)\n",
    "            \n",
    "    if value.startswith(\"≤\") or value.startswith(\"<=\") or value.startswith(\"<\"):\n",
    "        num = float(re.findall(r\"[\\d\\.]+\", value)[0])\n",
    "        return (np.nan, num, num/2) \n",
    "        \n",
    "    if value.startswith(\"≥\") or value.startswith(\">=\") or value.startswith(\">\"):\n",
    "        num = float(re.findall(r\"[\\d\\.]+\", value)[0])\n",
    "        return (num, np.nan, num/2)\n",
    "\n",
    "    nums = re.findall(r\"[\\d\\.]+\", value)\n",
    "    if len(nums) == 1:\n",
    "        num = float(nums[0])\n",
    "        return (num, num, num)\n",
    "\n",
    "    return (np.nan, np.nan, np.nan)"
   ]
  },
  {
   "cell_type": "code",
   "execution_count": 35,
   "id": "b23d553a-421f-48e7-bc7c-474dbe26a498",
   "metadata": {},
   "outputs": [],
   "source": [
    "for column in ['Carbon (C)', 'Manganese (Mn)',\n",
    "               'Silicon (Si)', 'Sulfur (S)', 'Phosphorus (P)', 'Chromium (Cr)',\n",
    "               'Nickel (Ni)', 'Molybdenum (Mo)', 'Vanadium (V)', 'Copper (Cu)',\n",
    "               'Aluminum (Al)', 'Titanium (Ti)', 'Niobium (Nb)', 'Boron (B)',\n",
    "               'Nitrogen (N)', 'Tensile strength (Rm)', 'Yield strength (Re or Rp0.2)',\n",
    "               'Elongation (A%)', 'Hardness (HB, HV, HRC)', 'Nb + V + Ti (Others)']:\n",
    "    ref_df[[column + '_min', column +'_max', column+'_mid']] = ref_df[column].apply(lambda x: pd.Series(parse_string(x)))"
   ]
  },
  {
   "cell_type": "markdown",
   "id": "ec60afa0-1400-47e3-b63d-47216682264f",
   "metadata": {},
   "source": [
    "Next, in order to join to dataframes, we drop rows in `rfq_df` which <b>grade</b> column is NaN."
   ]
  },
  {
   "cell_type": "code",
   "execution_count": 36,
   "id": "82e49c8c-c53d-413d-8ec9-d3b825099747",
   "metadata": {},
   "outputs": [],
   "source": [
    "rfq_df = rfq_df[~rfq_df['grade'].isna()]"
   ]
  },
  {
   "cell_type": "code",
   "execution_count": 37,
   "id": "4790c39e-5edd-4a83-941d-8d52dda2ac7d",
   "metadata": {},
   "outputs": [
    {
     "data": {
      "text/plain": [
       "set()"
      ]
     },
     "execution_count": 37,
     "metadata": {},
     "output_type": "execute_result"
    }
   ],
   "source": [
    "set(rfq_df['grade']) - set(ref_df['Grade/Material'])"
   ]
  },
  {
   "cell_type": "markdown",
   "id": "d9a353e8-ab29-4253-aae8-9c52dbc1b6e8",
   "metadata": {},
   "source": [
    "As the output above shows us, there is no rows in `rfq_df` which miss its grade in `ref_df`. Then we merge both dataframes on <b>grade</b> column and also <b>Suffix</b> column."
   ]
  },
  {
   "cell_type": "code",
   "execution_count": 38,
   "id": "79ce63b2-21bc-483b-bc95-8ab30cb3bc45",
   "metadata": {},
   "outputs": [
    {
     "name": "stdout",
     "output_type": "stream",
     "text": [
      "Total number of rows in merged dataframe: 941\n"
     ]
    }
   ],
   "source": [
    "merge_df = pd.merge(left=rfq_df, right=ref_df, how='left', left_on=['grade', 'Suffix'], right_on=['Grade/Material', 'Suffix'])\n",
    "merge_df.drop(columns = 'Grade/Material', inplace=True)\n",
    "print(f\"Total number of rows in merged dataframe: {len(merge_df)}\")"
   ]
  },
  {
   "cell_type": "markdown",
   "id": "058740d8-a373-41ca-9389-328e76075a6e",
   "metadata": {},
   "source": [
    "### Task B.2 - Feature engineering"
   ]
  },
  {
   "cell_type": "code",
   "execution_count": 39,
   "id": "9bc85987-f463-481e-975b-74ddbe0c82f5",
   "metadata": {},
   "outputs": [],
   "source": [
    "features_df = merge_df[['id']].copy()"
   ]
  },
  {
   "cell_type": "markdown",
   "id": "a647bcd9-8901-44dd-b010-44be8fbe4bcd",
   "metadata": {},
   "source": [
    "#### Dimensions"
   ]
  },
  {
   "cell_type": "code",
   "execution_count": 40,
   "id": "69eded53-7f9c-4b4e-9e38-eba4a4884ae5",
   "metadata": {},
   "outputs": [],
   "source": [
    "dimension_columns = [('thickness_min', 'thickness_max'),\n",
    "                     ('width_min', 'width_max'),\n",
    "                     ('height_min', 'height_max'),\n",
    "                     ('weight_min', 'weight_max'),\n",
    "                     ('inner_diameter_min', 'inner_diameter_max'),\n",
    "                     ('outer_diameter_min', 'outer_diameter_max',),\n",
    "                     ('yield_strength_min', 'yield_strength_max'),\n",
    "                     ('tensile_strength_min', 'tensile_strength_max')]"
   ]
  },
  {
   "cell_type": "code",
   "execution_count": 41,
   "id": "8b201f7e-8402-4063-82e2-8e55d54f2852",
   "metadata": {},
   "outputs": [],
   "source": [
    "for min_col, max_col in dimension_columns:\n",
    "    features_df[min_col] = merge_df[min_col]\n",
    "    features_df[max_col] = merge_df[max_col]\n",
    "    # For singelton values\n",
    "    features_df[min_col] = features_df[min_col].fillna(features_df[max_col])\n",
    "    features_df[max_col] = features_df[max_col].fillna(features_df[min_col])\n",
    "\n",
    "features_df['length_min']= merge_df['length_min']\n",
    "features_df['length_max'] = features_df['length_min']"
   ]
  },
  {
   "cell_type": "markdown",
   "id": "712f7819-4459-4e1b-8ba8-0044ac7e3cd0",
   "metadata": {},
   "source": [
    "#### Categorical"
   ]
  },
  {
   "cell_type": "code",
   "execution_count": 42,
   "id": "6319d117-5787-4f32-beff-a65c38b55a53",
   "metadata": {},
   "outputs": [],
   "source": [
    "categorical_columns = ['coating','finish','form','surface_type']\n",
    "for column in categorical_columns:\n",
    "    features_df[column] = merge_df[column]"
   ]
  },
  {
   "cell_type": "markdown",
   "id": "4f21457e-d69d-4f00-8bdd-f8ea29034127",
   "metadata": {},
   "source": [
    "#### Grade Properties"
   ]
  },
  {
   "cell_type": "code",
   "execution_count": 43,
   "id": "73df1961-5dae-452f-a107-a41687c61070",
   "metadata": {},
   "outputs": [],
   "source": [
    "grade_columns = [c for c in merge_df.columns if 'mid' in c]\n",
    "for column in grade_columns:\n",
    "    features_df[column] = merge_df[column]"
   ]
  },
  {
   "cell_type": "markdown",
   "id": "23df2ed6-bb18-4428-a73b-304026b6e0db",
   "metadata": {},
   "source": [
    "#### Cleaning"
   ]
  },
  {
   "cell_type": "code",
   "execution_count": 44,
   "id": "b3d50d86-d815-4c4e-8a81-d10759a6284f",
   "metadata": {},
   "outputs": [
    {
     "data": {
      "text/plain": [
       "<Axes: >"
      ]
     },
     "execution_count": 44,
     "metadata": {},
     "output_type": "execute_result"
    },
    {
     "data": {
      "image/png": "[encoded data removed]",
      "text/plain": [
       "<Figure size 2500x1000 with 2 Axes>"
      ]
     },
     "metadata": {},
     "output_type": "display_data"
    }
   ],
   "source": [
    "%matplotlib inline\n",
    "msno.matrix(features_df)"
   ]
  },
  {
   "cell_type": "markdown",
   "id": "e080a00c-8df7-462c-adf6-451e8abdb8de",
   "metadata": {},
   "source": [
    "As we see from the above images, some of our features have lots of null values, we keep the features that have more than 50% information to avoid sparsity."
   ]
  },
  {
   "cell_type": "code",
   "execution_count": 45,
   "id": "72394527-59bd-4099-b2a0-e274f72ed118",
   "metadata": {},
   "outputs": [],
   "source": [
    "columns_to_keep = features_df.columns[(len(features_df) - features_df.isna().sum())/len(features_df) * 100 > 50]"
   ]
  },
  {
   "cell_type": "code",
   "execution_count": 46,
   "id": "d895070b-9eee-44f0-ba7c-2d4e5c362fa0",
   "metadata": {},
   "outputs": [],
   "source": [
    "features_df = features_df[columns_to_keep]"
   ]
  },
  {
   "cell_type": "code",
   "execution_count": 47,
   "id": "c124bc0b-740d-4585-bbda-1c764f20e20c",
   "metadata": {},
   "outputs": [
    {
     "name": "stdout",
     "output_type": "stream",
     "text": [
      "<class 'pandas.core.frame.DataFrame'>\n",
      "RangeIndex: 941 entries, 0 to 940\n",
      "Data columns (total 18 columns):\n",
      " #   Column                            Non-Null Count  Dtype  \n",
      "---  ------                            --------------  -----  \n",
      " 0   id                                941 non-null    object \n",
      " 1   thickness_min                     804 non-null    float64\n",
      " 2   thickness_max                     804 non-null    float64\n",
      " 3   width_min                         691 non-null    float64\n",
      " 4   width_max                         691 non-null    float64\n",
      " 5   weight_min                        601 non-null    float64\n",
      " 6   weight_max                        601 non-null    float64\n",
      " 7   finish                            645 non-null    object \n",
      " 8   form                              874 non-null    object \n",
      " 9   Carbon (C)_mid                    940 non-null    float64\n",
      " 10  Manganese (Mn)_mid                940 non-null    float64\n",
      " 11  Silicon (Si)_mid                  539 non-null    float64\n",
      " 12  Sulfur (S)_mid                    929 non-null    float64\n",
      " 13  Phosphorus (P)_mid                929 non-null    float64\n",
      " 14  Aluminum (Al)_mid                 540 non-null    float64\n",
      " 15  Tensile strength (Rm)_mid         940 non-null    float64\n",
      " 16  Yield strength (Re or Rp0.2)_mid  930 non-null    float64\n",
      " 17  Elongation (A%)_mid               921 non-null    float64\n",
      "dtypes: float64(15), object(3)\n",
      "memory usage: 132.5+ KB\n"
     ]
    }
   ],
   "source": [
    "features_df.info()"
   ]
  },
  {
   "cell_type": "code",
   "execution_count": 48,
   "id": "3148ffbf-c469-4590-bc74-2ac47ab90708",
   "metadata": {},
   "outputs": [],
   "source": [
    "for column in features_df.columns:\n",
    "    _type = features_df[column].dtype\n",
    "    if _type=='object':\n",
    "        features_df[column] = features_df[column].str.strip().fillna('UNK')\n",
    "    elif _type=='float64':\n",
    "        features_df[column] = features_df[column].fillna(0)"
   ]
  },
  {
   "cell_type": "markdown",
   "id": "efcf8104-79e9-4849-82c0-cfa7bdbd2b1e",
   "metadata": {},
   "source": [
    "In this task we created a `features_df` from `merge_df` that consists of our features. First I put dimension intervals into features dataframe and for singleton values I put min or max into that. Then categorical features have been moved from the `merge_df` and lastly, I transfer columns that include 'mid' in their names. Finally, I checked the `features_df` and noticed that some of the columns have more null values, so only keep the columns that have more than 50% of non null values. For keeped columns, also fill string type columns with 'UNK' string and numeric columns filled with 0."
   ]
  },
  {
   "cell_type": "markdown",
   "id": "8b6421dc-33ad-4413-b51f-00e0fb047d8c",
   "metadata": {},
   "source": [
    "#### Similarity"
   ]
  },
  {
   "cell_type": "code",
   "execution_count": 49,
   "id": "3ff8f0a1-1f1b-4c0c-9ff7-92871dc32248",
   "metadata": {},
   "outputs": [],
   "source": [
    "def iou_interval(min1, max1, min2, max2):\n",
    "    overlap = max(0, min(max1, max2) - max(min1, min2))\n",
    "    union = max(max1, max2) - min(min1, min2)\n",
    "    return overlap / union if union > 0 else 0"
   ]
  },
  {
   "cell_type": "code",
   "execution_count": 50,
   "id": "7a08eeee-8e23-4ffe-8b3f-f9f33b706507",
   "metadata": {},
   "outputs": [],
   "source": [
    "def cosine_similarity(vec1, vec2):\n",
    "    norm1 = norm(vec1)\n",
    "    norm2 = norm(vec2)\n",
    "    \n",
    "    if norm1 == 0 and norm2 == 0:\n",
    "        return 0.0\n",
    "    elif norm1 == 0 or norm2 == 0:\n",
    "        return 0.0\n",
    "    else:\n",
    "        similarity = np.dot(vec1, vec2) / (norm1 * norm2)\n",
    "        similarity = (similarity+1)/2\n",
    "        return similarity"
   ]
  },
  {
   "cell_type": "code",
   "execution_count": 51,
   "id": "31338474-4841-4a2b-bf85-956b76693979",
   "metadata": {},
   "outputs": [],
   "source": [
    "def calculate_dimensions_similarity(ref, tar):\n",
    "    iou_thickness = iou_interval(ref['thickness_min'], ref['thickness_max'], tar['thickness_min'], tar['thickness_max'])\n",
    "    iou_width = iou_interval(ref['width_min'], ref['width_max'], tar['width_min'], tar['width_max'])\n",
    "    iou_weight =  iou_interval(ref['weight_min'], ref['weight_max'], tar['weight_min'], tar['weight_max'])\n",
    "    return (iou_thickness+iou_width+iou_weight)/3"
   ]
  },
  {
   "cell_type": "code",
   "execution_count": 52,
   "id": "e01f70d7-4089-435e-9ba3-908ad7906f86",
   "metadata": {},
   "outputs": [],
   "source": [
    "def calculate_categorical_similarity(ref, tar):\n",
    "    if ref['form'] == 'UNK' or tar['form'] == 'UNK':\n",
    "        score_form = 0\n",
    "    else:    \n",
    "        score_form = 1 if ref['form'] == tar['form'] else 0\n",
    "    if ref['finish'] == 'UNK' or tar['finish'] == 'UNK':\n",
    "        score_finish = 0\n",
    "    else: \n",
    "        score_finish = 1 if ref['finish'] == tar['finish'] else 0\n",
    "    return (score_form + score_finish) / 2"
   ]
  },
  {
   "cell_type": "code",
   "execution_count": 53,
   "id": "ccefed86-4a08-482c-8fd8-d4a1fb246b9a",
   "metadata": {},
   "outputs": [],
   "source": [
    "def calculate_grade_similarity(ref, tar):\n",
    "    columns = [c for c in features_df.columns if 'mid' in c]\n",
    "    vec1 = ref[columns].to_numpy(dtype=float)\n",
    "    vec2 = tar[columns].to_numpy(dtype=float)\n",
    "    return cosine_similarity(vec1, vec2)"
   ]
  },
  {
   "cell_type": "code",
   "execution_count": 54,
   "id": "fb0d46dd-661d-4e9e-aa09-d791dea28429",
   "metadata": {},
   "outputs": [],
   "source": [
    "results = []\n",
    "for i, ref in features_df.iterrows():\n",
    "    for j in range(i+1, len(features_df)):\n",
    "        tar = features_df.iloc[j]\n",
    "        if ref.drop('id').equals(tar.drop('id')):\n",
    "            continue\n",
    "        iou_dimensions = calculate_dimensions_similarity(ref, tar)\n",
    "        exact_match_categorical = calculate_categorical_similarity(ref, tar)\n",
    "        cosine_similarity_grades = calculate_grade_similarity(ref, tar)\n",
    "        result = {'rfq_id': ref['id'], \n",
    "                  'match_id': tar['id'], \n",
    "                  'iou_dimensions': iou_dimensions,\n",
    "                  'exact_match_categorical': exact_match_categorical,\n",
    "                  'cosine_similarity_grades': cosine_similarity_grades\n",
    "                 }\n",
    "        results.append(result)\n",
    "similarity = pd.DataFrame(results)"
   ]
  },
  {
   "cell_type": "code",
   "execution_count": 55,
   "id": "7adffffe-ba79-409b-baf2-36259b86baed",
   "metadata": {},
   "outputs": [
    {
     "data": {
      "text/html": [
       "<div>\n",
       "<style scoped>\n",
       "    .dataframe tbody tr th:only-of-type {\n",
       "        vertical-align: middle;\n",
       "    }\n",
       "\n",
       "    .dataframe tbody tr th {\n",
       "        vertical-align: top;\n",
       "    }\n",
       "\n",
       "    .dataframe thead th {\n",
       "        text-align: right;\n",
       "    }\n",
       "</style>\n",
       "<table border=\"1\" class=\"dataframe\">\n",
       "  <thead>\n",
       "    <tr style=\"text-align: right;\">\n",
       "      <th></th>\n",
       "      <th>rfq_id</th>\n",
       "      <th>match_id</th>\n",
       "      <th>iou_dimensions</th>\n",
       "      <th>exact_match_categorical</th>\n",
       "      <th>cosine_similarity_grades</th>\n",
       "    </tr>\n",
       "  </thead>\n",
       "  <tbody>\n",
       "    <tr>\n",
       "      <th>0</th>\n",
       "      <td>8aff426d-b8c0-43aa-ad26-835ef4de6129</td>\n",
       "      <td>37e624be-b125-464f-85b6-1838530193ef</td>\n",
       "      <td>0.000000</td>\n",
       "      <td>0.0</td>\n",
       "      <td>0.997378</td>\n",
       "    </tr>\n",
       "    <tr>\n",
       "      <th>1</th>\n",
       "      <td>8aff426d-b8c0-43aa-ad26-835ef4de6129</td>\n",
       "      <td>b8257184-6307-46ab-b06e-d979336d1263</td>\n",
       "      <td>0.181159</td>\n",
       "      <td>0.5</td>\n",
       "      <td>0.999581</td>\n",
       "    </tr>\n",
       "    <tr>\n",
       "      <th>2</th>\n",
       "      <td>8aff426d-b8c0-43aa-ad26-835ef4de6129</td>\n",
       "      <td>63140d1f-dda8-40fe-8931-bcaba65d5772</td>\n",
       "      <td>0.000000</td>\n",
       "      <td>0.0</td>\n",
       "      <td>0.995864</td>\n",
       "    </tr>\n",
       "    <tr>\n",
       "      <th>3</th>\n",
       "      <td>8aff426d-b8c0-43aa-ad26-835ef4de6129</td>\n",
       "      <td>11cffc57-44be-4d79-bfd5-97482be566d3</td>\n",
       "      <td>0.000000</td>\n",
       "      <td>0.0</td>\n",
       "      <td>0.995864</td>\n",
       "    </tr>\n",
       "    <tr>\n",
       "      <th>4</th>\n",
       "      <td>8aff426d-b8c0-43aa-ad26-835ef4de6129</td>\n",
       "      <td>75fae2b7-8107-4ce2-a9d5-1189b4cd3b21</td>\n",
       "      <td>0.000000</td>\n",
       "      <td>0.0</td>\n",
       "      <td>0.995864</td>\n",
       "    </tr>\n",
       "  </tbody>\n",
       "</table>\n",
       "</div>"
      ],
      "text/plain": [
       "                                 rfq_id                              match_id  \\\n",
       "0  8aff426d-b8c0-43aa-ad26-835ef4de6129  37e624be-b125-464f-85b6-1838530193ef   \n",
       "1  8aff426d-b8c0-43aa-ad26-835ef4de6129  b8257184-6307-46ab-b06e-d979336d1263   \n",
       "2  8aff426d-b8c0-43aa-ad26-835ef4de6129  63140d1f-dda8-40fe-8931-bcaba65d5772   \n",
       "3  8aff426d-b8c0-43aa-ad26-835ef4de6129  11cffc57-44be-4d79-bfd5-97482be566d3   \n",
       "4  8aff426d-b8c0-43aa-ad26-835ef4de6129  75fae2b7-8107-4ce2-a9d5-1189b4cd3b21   \n",
       "\n",
       "   iou_dimensions  exact_match_categorical  cosine_similarity_grades  \n",
       "0        0.000000                      0.0                  0.997378  \n",
       "1        0.181159                      0.5                  0.999581  \n",
       "2        0.000000                      0.0                  0.995864  \n",
       "3        0.000000                      0.0                  0.995864  \n",
       "4        0.000000                      0.0                  0.995864  "
      ]
     },
     "execution_count": 55,
     "metadata": {},
     "output_type": "execute_result"
    }
   ],
   "source": [
    "similarity.head()"
   ]
  },
  {
   "cell_type": "markdown",
   "id": "4b58c05c-4307-4eeb-91e0-a1aacb1e51c4",
   "metadata": {},
   "source": [
    "In the above section, for our `features_df`, we first calculate IOU for dimension metrics. We selected IOU since it is better representing of intersection for dimensions instead of overlap ratio, because if one of the two intervals is subset of another the overlap ratio would be 1. Then for categorical features, we average the exact match between <b>form</b> and <b>finish</b> column, if any of the value is 'UNK' then the score would be 0. Finally, for columns with <b>mid</b> value, we used cosine similarity because of robustness for different units. Also, since these metrics are symmetric, we only calculate the metrics for one direction becuase similarity between A -> B is the same is B -> A."
   ]
  },
  {
   "cell_type": "markdown",
   "id": "b77f1c85-6bf2-4d6e-85a5-c24fd2cc3e12",
   "metadata": {},
   "source": [
    "### Task B.3 - Similarity Calculation"
   ]
  },
  {
   "cell_type": "markdown",
   "id": "7e907a23-66b9-4160-8ee4-af91c81a95e1",
   "metadata": {},
   "source": [
    "Now that we have our similarity scores between rfqs, based on the number of columns used for creating each feature, we created our weights and aggregate similarity scores. Then select top 3 and save into output folder."
   ]
  },
  {
   "cell_type": "code",
   "execution_count": 56,
   "id": "6d04ce0f-0af4-4103-9258-504e5ae4ad4b",
   "metadata": {},
   "outputs": [],
   "source": [
    "n_features = {\n",
    "    'iou_dimensions': 3,\n",
    "    'exact_match_categorical': 2,\n",
    "    'cosine_similarity_grades': 9\n",
    "}\n",
    "\n",
    "similarity['similarity_score'] = (\n",
    "    similarity['iou_dimensions'] * n_features['iou_dimensions'] +\n",
    "    similarity['exact_match_categorical'] * n_features['exact_match_categorical'] +\n",
    "    similarity['cosine_similarity_grades'] * n_features['cosine_similarity_grades']\n",
    ") / sum(n_features.values())"
   ]
  },
  {
   "cell_type": "code",
   "execution_count": 57,
   "id": "073f7462-f1c0-469e-bda4-b5e78c3c6c09",
   "metadata": {},
   "outputs": [],
   "source": [
    "top3 = similarity.sort_values('similarity_score', ascending = False)[['rfq_id', 'match_id', 'similarity_score']][0:3]"
   ]
  },
  {
   "cell_type": "code",
   "execution_count": 58,
   "id": "c71fd631-371b-4b66-8e89-ad01221464b4",
   "metadata": {},
   "outputs": [
    {
     "data": {
      "text/html": [
       "<div>\n",
       "<style scoped>\n",
       "    .dataframe tbody tr th:only-of-type {\n",
       "        vertical-align: middle;\n",
       "    }\n",
       "\n",
       "    .dataframe tbody tr th {\n",
       "        vertical-align: top;\n",
       "    }\n",
       "\n",
       "    .dataframe thead th {\n",
       "        text-align: right;\n",
       "    }\n",
       "</style>\n",
       "<table border=\"1\" class=\"dataframe\">\n",
       "  <thead>\n",
       "    <tr style=\"text-align: right;\">\n",
       "      <th></th>\n",
       "      <th>rfq_id</th>\n",
       "      <th>match_id</th>\n",
       "      <th>similarity_score</th>\n",
       "    </tr>\n",
       "  </thead>\n",
       "  <tbody>\n",
       "    <tr>\n",
       "      <th>20704</th>\n",
       "      <td>a462a4cb-bbaa-4417-b876-4b8606c6f8db</td>\n",
       "      <td>ca1ccf90-ef97-446d-b9ba-214844ffc371</td>\n",
       "      <td>0.928571</td>\n",
       "    </tr>\n",
       "    <tr>\n",
       "      <th>21340</th>\n",
       "      <td>a462a4cb-bbaa-4417-b876-4b8606c6f8db</td>\n",
       "      <td>90b02a62-3da9-4648-948c-52627d086a50</td>\n",
       "      <td>0.928571</td>\n",
       "    </tr>\n",
       "    <tr>\n",
       "      <th>211957</th>\n",
       "      <td>341ae37b-3e39-44f4-99f5-566fab316e0c</td>\n",
       "      <td>bf42879f-e641-475a-8b19-c5df8f6cee7a</td>\n",
       "      <td>0.928569</td>\n",
       "    </tr>\n",
       "  </tbody>\n",
       "</table>\n",
       "</div>"
      ],
      "text/plain": [
       "                                      rfq_id  \\\n",
       "20704   a462a4cb-bbaa-4417-b876-4b8606c6f8db   \n",
       "21340   a462a4cb-bbaa-4417-b876-4b8606c6f8db   \n",
       "211957  341ae37b-3e39-44f4-99f5-566fab316e0c   \n",
       "\n",
       "                                    match_id  similarity_score  \n",
       "20704   ca1ccf90-ef97-446d-b9ba-214844ffc371          0.928571  \n",
       "21340   90b02a62-3da9-4648-948c-52627d086a50          0.928571  \n",
       "211957  bf42879f-e641-475a-8b19-c5df8f6cee7a          0.928569  "
      ]
     },
     "execution_count": 58,
     "metadata": {},
     "output_type": "execute_result"
    }
   ],
   "source": [
    "top3"
   ]
  },
  {
   "cell_type": "code",
   "execution_count": 59,
   "id": "c5897da7-4dca-443f-8422-9a2f44fe7924",
   "metadata": {},
   "outputs": [],
   "source": [
    "os.makedirs(OUTPUT_FOLDER_PATH, exist_ok=True)\n",
    "top3.to_csv(os.path.join(OUTPUT_FOLDER_PATH, 'top3.csv'), index=False)"
   ]
  }
 ],
 "metadata": {
  "kernelspec": {
   "display_name": "Python 3 (ipykernel)",
   "language": "python",
   "name": "python3"
  },
  "language_info": {
   "codemirror_mode": {
    "name": "ipython",
    "version": 3
   },
   "file_extension": ".py",
   "mimetype": "text/x-python",
   "name": "python",
   "nbconvert_exporter": "python",
   "pygments_lexer": "ipython3",
   "version": "3.9.6"
  }
 },
 "nbformat": 4,
 "nbformat_minor": 5
}
